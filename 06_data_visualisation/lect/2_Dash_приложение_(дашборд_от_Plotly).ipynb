{
  "nbformat": 4,
  "nbformat_minor": 0,
  "metadata": {
    "colab": {
      "provenance": []
    },
    "kernelspec": {
      "name": "python3",
      "display_name": "Python 3"
    },
    "language_info": {
      "name": "python"
    }
  },
  "cells": [
    {
      "cell_type": "markdown",
      "source": [
        "# Dash-борды от Plotly. Инструкция по созданию заготовки для проекта Dash-приложения в VS Code"
      ],
      "metadata": {
        "id": "1r_FWb6YsgSM"
      }
    },
    {
      "cell_type": "markdown",
      "source": [
        "# 1. Установка необходимых инструментов\n",
        "\n",
        "* Убедитесь, что у вас установлен Python (рекомендуется версия 3.8+).\n",
        "* Установите VS Code (можно скачать с официального сайта).\n",
        "* Установите расширение Python в VS Code (от Microsoft)."
      ],
      "metadata": {
        "id": "_SykOcpWoMl_"
      }
    },
    {
      "cell_type": "markdown",
      "source": [
        "# 2. Создание виртуального окружения\n",
        "\n",
        "* Откройте терминал в VS Code `(Ctrl + ~)`.\n",
        "* Создайте папку для проекта и перейдите в неё:\n",
        "\n",
        "```bash\n",
        "mkdir dash_project && cd dash_project\n",
        "```\n",
        "* Создайте виртуальное окружение:\n",
        "\n",
        "```bash\n",
        "python -m venv venv\n",
        "```\n",
        "* Активируйте его:\n",
        "\n",
        "```bash\n",
        "python -m venv venv\n",
        "```\n",
        "\n",
        "Windows:\n",
        "```bash\n",
        ".\\venv\\Scripts\\activate\n",
        "```\n",
        "macOS/Linux:\n",
        "```bash\n",
        "source venv/bin/activate\n",
        "```"
      ],
      "metadata": {
        "id": "o45nIwQ6oWei"
      }
    },
    {
      "cell_type": "markdown",
      "source": [
        "# 3. Установка Dash и зависимостей\n",
        "\n",
        "Установите Dash и дополнительные модули (если нужны):\n",
        "\n",
        "```bash\n",
        "pip install dash pandas plotly python-dotenv dash-bootstrap-components\n",
        "```"
      ],
      "metadata": {
        "id": "_60cR2EXqHk7"
      }
    },
    {
      "cell_type": "markdown",
      "source": [
        "# 4. Создание структуры проекта\n",
        "\n",
        "```\n",
        "dash_project/  \n",
        "├── app.py            # Основной файл приложения\n",
        "├── callbacks.py      # Колбеки Dash-борда (опционально)\n",
        "├── layouts.py.       # Разметка Dash-борда (опционально)   \n",
        "├── assets/           # Папка для CSS/JS (опционально)  \n",
        "│   └── style.css     # Стили (если нужны)  \n",
        "├── requirements.txt  # Зависимости   \n",
        "├── .env              # API-ключ (не коммитить!)\n",
        "└── README.md         # Описание проекта   \n",
        "```"
      ],
      "metadata": {
        "id": "Y4taSYb3qZpb"
      }
    },
    {
      "cell_type": "markdown",
      "source": [
        "# 5. Наполнение app.py\n",
        "\n",
        "Откройте `app.py` и добавьте базовый шаблон Dash-приложения:\n",
        "\n",
        "```python\n",
        "from dash import Dash, html, dcc\n",
        "\n",
        "app = dash.Dash(__name__)\n",
        "\n",
        "app.layout = html.Div([\n",
        "    html.H1(\"Мое Dash-приложение\"),\n",
        "    dcc.Graph(\n",
        "        id='example-graph',\n",
        "        figure={\n",
        "            'data': [{'x': [1, 2, 3], 'y': [4, 1, 2], 'type': 'bar', 'name': 'Пример'}],\n",
        "            'layout': {'title': 'График Dash'}\n",
        "        }\n",
        "    )\n",
        "])\n",
        "\n",
        "if __name__ == '__main__':\n",
        "    app.run(debug=True)\n",
        "```"
      ],
      "metadata": {
        "id": "EAFkDtC0rEth"
      }
    },
    {
      "cell_type": "markdown",
      "source": [
        "# 6. Запуск приложения\n",
        "\n",
        "В терминале VS Code (с активированным окружением) выполните:\n",
        "\n",
        "```bash\n",
        "python app.py\n",
        "```\n",
        "\n",
        "Откройте браузер по адресу: `http://127.0.0.1:8050/`.\n"
      ],
      "metadata": {
        "id": "18NsYeLArlAT"
      }
    },
    {
      "cell_type": "markdown",
      "source": [
        "# 7. Добавьте git\n",
        "\n",
        "* Инициализируйте репозиторий `git init`,\n",
        "* добавьте .gitignore - исключите `venv/`\n"
      ],
      "metadata": {
        "id": "YPyuW8I-sHDp"
      }
    }
  ]
}