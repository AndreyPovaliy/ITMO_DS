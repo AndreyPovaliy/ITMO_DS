{
  "cells": [
    {
      "cell_type": "markdown",
      "metadata": {
        "id": "b_01bcoGjAg6"
      },
      "source": [
        "# **Контрольное задание на допуск к экзамену.**\n",
        "\n",
        "**Вариант 3**\n",
        "\n",
        "\n",
        "Cуществует сервис для аренды электросамокатов\n",
        "«Самокаты».\n",
        "Сервис позволяет воспользоваться самокатом от Юрента через приложение Т-Банка.\n",
        "Чтобы арендовать самокат, клиенту необходимо зайти в приложение, открыть сервис\n",
        "«Самокаты» и отсканировать QR-код на руле самоката. В этот момент у клиента\n",
        "со счета списывается фиксированная сумма в качестве взноса. В конце поездки\n",
        "также списывается итоговая сумма за поездку.\n",
        "Данные охватывают сезон аренды самокатов 2024 года (с апреля по октябрь 2024)."
      ]
    },
    {
      "cell_type": "markdown",
      "metadata": {
        "id": "8MNnVDHPdJBL"
      },
      "source": [
        "**Описание полей:**\n",
        "\n",
        "order_rk Идентификатор заказа (поездки)\n",
        "\n",
        "party_rk_id Идентификатор клиента\n",
        "\n",
        "minute_cost Стоимость минуты\n",
        "\n",
        "hold_amount Размер суммы, которая замораживается на счете в момент\n",
        "взятия самоката\n",
        "\n",
        "transport_model Название модели самоката\n",
        "\n",
        "created_dttm Дата и время создания заказа\n",
        "\n",
        "distance_km Километраж поездки\n",
        "\n",
        "book_start_dttm Дата и время начала поездки\n",
        "\n",
        "book_end_dttm Дата и время завершения поездки\n",
        "\n",
        "book_time_zone_cd Часовой пояс\n",
        "\n",
        "local_book_start_dttm Дата и время начала поездки в часовом поясе человека, который брал самокат\n",
        "\n",
        "loyalty_accrual_rub_amt Размер выплаченного кэшбэка в рублях\n",
        "\n",
        "nominal_price_rub_amt Стоимость поездки\n",
        "\n",
        "loyalty_accrual_bns_amt Размер выплаченного кэшбэка в бонусах (если оплата\n",
        "происходила с помощью кредитной карты)\n",
        "\n",
        "Gender_cd Пол клиента\n",
        "\n",
        "lvn_state_nm Регион проживания человека\n",
        "\n",
        "Age Возраст клиента\n",
        "\n",
        "Education_level\n",
        "Уровень образования клиента:\n",
        "- SCH — начальное, среднее\n",
        "- GRD — высшее\n",
        "- UGR — неполное высшее\n",
        "- PGR — два высших\n",
        "- ACD — ученая степень\n",
        "\n",
        "marital_status_cd Семейный статус человека:\n",
        "- IMR — состоит в незарегистрированном браке\n",
        "- MAR —женат/замужем\n",
        "- DLW — не проживает с супругом(ой)\n",
        "- OMR — состоит в зарегистрированном браке\n",
        "- CIV — гражданский брак\n",
        "- UNM — холост/не замужем\n",
        "- DIV — разведен(а)\n",
        "- FAL — никогда не состоял(а) в браке\n",
        "- WID — вдовец/вдова"
      ]
    },
    {
      "cell_type": "markdown",
      "metadata": {
        "id": "4nxW0ktufzRb"
      },
      "source": [
        "**Задание:**\n",
        "\n",
        "1. Кто эти клиенты, которее чаще других использует сервис Самокаты? Целевая аудитория. Типичная поездка представителя целевой аудитории.\n",
        "\n",
        "2. Кто эти клиенты, которые используют самокаты для поездок на длинные расстояния? Типичная длительная поездка.\n",
        "\n",
        "3. Статистика по использованию самокатов ночью по дням недели.\n",
        "\n",
        "**Все исследования должны сопровождаться визуализацией в виде графиков и диаграмм**\n"
      ]
    },
    {
      "cell_type": "code",
      "execution_count": 6,
      "metadata": {},
      "outputs": [],
      "source": [
        "import pandas as pd\n",
        "import os\n",
        "os.chdir('/Users/andreypovaliy/Documents/Education/ITMO_DS/05_python_for_data_analysis/tasks/')"
      ]
    },
    {
      "cell_type": "code",
      "execution_count": 7,
      "metadata": {
        "id": "a-grXbngYc2e"
      },
      "outputs": [],
      "source": [
        "# ваш код здесь\n",
        "\n",
        "df = pd.read_csv('kicksharing.csv')\n",
        "\n"
      ]
    },
    {
      "cell_type": "code",
      "execution_count": 8,
      "metadata": {},
      "outputs": [
        {
          "name": "stdout",
          "output_type": "stream",
          "text": [
            "<class 'pandas.core.frame.DataFrame'>\n",
            "RangeIndex: 396749 entries, 0 to 396748\n",
            "Data columns (total 20 columns):\n",
            " #   Column                   Non-Null Count   Dtype  \n",
            "---  ------                   --------------   -----  \n",
            " 0   order_rk                 396749 non-null  int64  \n",
            " 1   party_rk                 396749 non-null  int64  \n",
            " 2   gender_cd                393828 non-null  object \n",
            " 3   age                      396749 non-null  int64  \n",
            " 4   education_level_cd       190059 non-null  object \n",
            " 5   marital_status_cd        217729 non-null  object \n",
            " 6   lvn_state_nm             362572 non-null  object \n",
            " 7   minute_cost              396749 non-null  float64\n",
            " 8   activation_cost          396749 non-null  float64\n",
            " 9   hold_amount              396749 non-null  float64\n",
            " 10  transport_model          396749 non-null  object \n",
            " 11  distance_km              396749 non-null  float64\n",
            " 12  created_dttm             396749 non-null  object \n",
            " 13  book_start_dttm          396749 non-null  object \n",
            " 14  book_end_dttm            396749 non-null  object \n",
            " 15  book_time_zone_cd        396749 non-null  int64  \n",
            " 16  local_book_start_dttm    396749 non-null  object \n",
            " 17  nominal_price_rub_amt    396749 non-null  float64\n",
            " 18  loyalty_accrual_rub_amt  366992 non-null  float64\n",
            " 19  loyalty_accrual_bns_amt  21948 non-null   float64\n",
            "dtypes: float64(7), int64(4), object(9)\n",
            "memory usage: 60.5+ MB\n"
          ]
        }
      ],
      "source": [
        "df.info()"
      ]
    },
    {
      "cell_type": "code",
      "execution_count": 11,
      "metadata": {},
      "outputs": [
        {
          "data": {
            "text/plain": [
              "order_rk                    0.000000\n",
              "party_rk                    0.000000\n",
              "gender_cd                   0.736234\n",
              "age                         0.000000\n",
              "education_level_cd         52.095910\n",
              "marital_status_cd          45.121727\n",
              "lvn_state_nm                8.614262\n",
              "minute_cost                 0.000000\n",
              "activation_cost             0.000000\n",
              "hold_amount                 0.000000\n",
              "transport_model             0.000000\n",
              "distance_km                 0.000000\n",
              "created_dttm                0.000000\n",
              "book_start_dttm             0.000000\n",
              "book_end_dttm               0.000000\n",
              "book_time_zone_cd           0.000000\n",
              "local_book_start_dttm       0.000000\n",
              "nominal_price_rub_amt       0.000000\n",
              "loyalty_accrual_rub_amt     7.500208\n",
              "loyalty_accrual_bns_amt    94.468039\n",
              "dtype: float64"
            ]
          },
          "execution_count": 11,
          "metadata": {},
          "output_type": "execute_result"
        }
      ],
      "source": [
        "df.isna().sum()/len(df)*100"
      ]
    }
  ],
  "metadata": {
    "colab": {
      "provenance": []
    },
    "kernelspec": {
      "display_name": "Python 3",
      "name": "python3"
    },
    "language_info": {
      "codemirror_mode": {
        "name": "ipython",
        "version": 3
      },
      "file_extension": ".py",
      "mimetype": "text/x-python",
      "name": "python",
      "nbconvert_exporter": "python",
      "pygments_lexer": "ipython3",
      "version": "3.9.6"
    }
  },
  "nbformat": 4,
  "nbformat_minor": 0
}
