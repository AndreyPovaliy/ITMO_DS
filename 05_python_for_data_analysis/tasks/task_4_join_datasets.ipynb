{
  "nbformat": 4,
  "nbformat_minor": 0,
  "metadata": {
    "colab": {
      "provenance": []
    },
    "kernelspec": {
      "name": "python3",
      "display_name": "Python 3"
    },
    "language_info": {
      "name": "python"
    }
  },
  "cells": [
    {
      "cell_type": "markdown",
      "source": [
        "# **Задание №4**\n",
        "\n",
        "https://disk.yandex.ru/d/z1veDWdBFFyTDA\n",
        "\n",
        "Даны файлы (10 датасетов) с информацией о студентах вида:\n",
        "\n",
        "```формат\n",
        "Students_info_0.csv\n",
        "```\n",
        "\n",
        "а также файлы (10 датасетов) с информацикй об их успеваемости вида:\n",
        "\n",
        "```\n",
        "Students_marks_0.csv\n",
        "```\n",
        "\n",
        "\n",
        "\n"
      ],
      "metadata": {
        "id": "1RP1n14_ewmB"
      }
    },
    {
      "cell_type": "markdown",
      "source": [
        "Необходимо написать скрипт, который будет **автоматически** загружать файлы и осуществлять их объединение в единый `DataFrame`. В тоговом датафрейме не должно быть дублирующихся колонок. По окончанию работы скрипта файл с объединенным датасетом должен быть сохранен в формате `csv` без внутренней индексации `pandas`.\n",
        "\n",
        "Модуль **`os`** поможет решить данную задача https://docs.python.org/3/library/os.html"
      ],
      "metadata": {
        "id": "PpuvUZ_rA7Ji"
      }
    },
    {
      "cell_type": "code",
      "execution_count": null,
      "metadata": {
        "id": "jNDgtS-nfPgI"
      },
      "outputs": [],
      "source": [
        "import os\n",
        "import pandas as pd"
      ]
    },
    {
      "cell_type": "code",
      "source": [
        "\n"
      ],
      "metadata": {
        "id": "40E-50POE1BA"
      },
      "execution_count": null,
      "outputs": []
    }
  ]
}