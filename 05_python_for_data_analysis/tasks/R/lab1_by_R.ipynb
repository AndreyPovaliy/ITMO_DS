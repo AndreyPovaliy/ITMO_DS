{
 "cells": [
  {
   "cell_type": "markdown",
   "id": "21d18209-139a-49c2-8dba-a2ef289063a2",
   "metadata": {},
   "source": [
    "## Лабораторная работа №1 -> выполнено на R"
   ]
  },
  {
   "cell_type": "code",
   "execution_count": 9,
   "id": "41575c94-b21b-4140-b0de-642ec9c4bd30",
   "metadata": {
    "vscode": {
     "languageId": "r"
    }
   },
   "outputs": [
    {
     "name": "stderr",
     "output_type": "stream",
     "text": [
      "Warning message:\n",
      "“пакет ‘ggplot2’ был собран под R версии 4.3.1”\n",
      "Warning message:\n",
      "“пакет ‘tidyr’ был собран под R версии 4.3.1”\n",
      "Warning message:\n",
      "“пакет ‘dplyr’ был собран под R версии 4.3.1”\n",
      "Warning message:\n",
      "“пакет ‘stringr’ был собран под R версии 4.3.1”\n",
      "── \u001b[1mAttaching core tidyverse packages\u001b[22m ──────────────────────── tidyverse 2.0.0 ──\n",
      "\u001b[32m✔\u001b[39m \u001b[34mdplyr    \u001b[39m 1.1.4     \u001b[32m✔\u001b[39m \u001b[34mreadr    \u001b[39m 2.1.4\n",
      "\u001b[32m✔\u001b[39m \u001b[34mforcats  \u001b[39m 1.0.0     \u001b[32m✔\u001b[39m \u001b[34mstringr  \u001b[39m 1.5.1\n",
      "\u001b[32m✔\u001b[39m \u001b[34mggplot2  \u001b[39m 3.5.1     \u001b[32m✔\u001b[39m \u001b[34mtibble   \u001b[39m 3.2.1\n",
      "\u001b[32m✔\u001b[39m \u001b[34mlubridate\u001b[39m 1.9.2     \u001b[32m✔\u001b[39m \u001b[34mtidyr    \u001b[39m 1.3.1\n",
      "\u001b[32m✔\u001b[39m \u001b[34mpurrr    \u001b[39m 1.0.2     \n",
      "── \u001b[1mConflicts\u001b[22m ────────────────────────────────────────── tidyverse_conflicts() ──\n",
      "\u001b[31m✖\u001b[39m \u001b[34mdplyr\u001b[39m::\u001b[32mfilter()\u001b[39m masks \u001b[34mstats\u001b[39m::filter()\n",
      "\u001b[31m✖\u001b[39m \u001b[34mdplyr\u001b[39m::\u001b[32mlag()\u001b[39m    masks \u001b[34mstats\u001b[39m::lag()\n",
      "\u001b[36mℹ\u001b[39m Use the conflicted package (\u001b[3m\u001b[34m<http://conflicted.r-lib.org/>\u001b[39m\u001b[23m) to force all conflicts to become errors\n"
     ]
    }
   ],
   "source": [
    "library(tidyverse)\n",
    "\n",
    "generate_sales_data <- function(num_entries=10, seed=42){\n",
    "    set.seed(seed)\n",
    "    item_ids <-  sample(100:109, num_entries, replace=T)  # ID товаров (100-109)\n",
    "    quantities <-  sample(1:9, num_entries, replace=T)   # Количество проданных единиц (1-9)\n",
    "    prices <-  runif(num_entries, 50.0, 500.0)    # Цена за единицу (50.0 - 500.0)\n",
    "    df <- data.frame(item_ids,quantities,prices)\n",
    "    return(df)\n",
    "\n",
    "}"
   ]
  },
  {
   "cell_type": "code",
   "execution_count": 7,
   "id": "1e914dd1-5a4d-476a-be38-c52c9a779651",
   "metadata": {
    "scrolled": true,
    "vscode": {
     "languageId": "r"
    }
   },
   "outputs": [
    {
     "data": {
      "text/html": [
       "<table class=\"dataframe\">\n",
       "<caption>A data.frame: 10 × 3</caption>\n",
       "<thead>\n",
       "\t<tr><th scope=col>item_ids</th><th scope=col>quantities</th><th scope=col>prices</th></tr>\n",
       "\t<tr><th scope=col>&lt;int&gt;</th><th scope=col>&lt;int&gt;</th><th scope=col>&lt;dbl&gt;</th></tr>\n",
       "</thead>\n",
       "<tbody>\n",
       "\t<tr><td>108</td><td>5</td><td>203.15705</td></tr>\n",
       "\t<tr><td>103</td><td>6</td><td>266.93605</td></tr>\n",
       "\t<tr><td>106</td><td>7</td><td>319.80462</td></tr>\n",
       "\t<tr><td>100</td><td>9</td><td>272.09359</td></tr>\n",
       "\t<tr><td>101</td><td>5</td><td>133.79792</td></tr>\n",
       "\t<tr><td>106</td><td>5</td><td>422.31799</td></tr>\n",
       "\t<tr><td>101</td><td>9</td><td>350.81003</td></tr>\n",
       "\t<tr><td>102</td><td>9</td><td>407.40794</td></tr>\n",
       "\t<tr><td>100</td><td>5</td><td> 98.57463</td></tr>\n",
       "\t<tr><td>104</td><td>5</td><td>375.66993</td></tr>\n",
       "</tbody>\n",
       "</table>\n"
      ],
      "text/latex": [
       "A data.frame: 10 × 3\n",
       "\\begin{tabular}{lll}\n",
       " item\\_ids & quantities & prices\\\\\n",
       " <int> & <int> & <dbl>\\\\\n",
       "\\hline\n",
       "\t 108 & 5 & 203.15705\\\\\n",
       "\t 103 & 6 & 266.93605\\\\\n",
       "\t 106 & 7 & 319.80462\\\\\n",
       "\t 100 & 9 & 272.09359\\\\\n",
       "\t 101 & 5 & 133.79792\\\\\n",
       "\t 106 & 5 & 422.31799\\\\\n",
       "\t 101 & 9 & 350.81003\\\\\n",
       "\t 102 & 9 & 407.40794\\\\\n",
       "\t 100 & 5 &  98.57463\\\\\n",
       "\t 104 & 5 & 375.66993\\\\\n",
       "\\end{tabular}\n"
      ],
      "text/markdown": [
       "\n",
       "A data.frame: 10 × 3\n",
       "\n",
       "| item_ids &lt;int&gt; | quantities &lt;int&gt; | prices &lt;dbl&gt; |\n",
       "|---|---|---|\n",
       "| 108 | 5 | 203.15705 |\n",
       "| 103 | 6 | 266.93605 |\n",
       "| 106 | 7 | 319.80462 |\n",
       "| 100 | 9 | 272.09359 |\n",
       "| 101 | 5 | 133.79792 |\n",
       "| 106 | 5 | 422.31799 |\n",
       "| 101 | 9 | 350.81003 |\n",
       "| 102 | 9 | 407.40794 |\n",
       "| 100 | 5 |  98.57463 |\n",
       "| 104 | 5 | 375.66993 |\n",
       "\n"
      ],
      "text/plain": [
       "   item_ids quantities prices   \n",
       "1  108      5          203.15705\n",
       "2  103      6          266.93605\n",
       "3  106      7          319.80462\n",
       "4  100      9          272.09359\n",
       "5  101      5          133.79792\n",
       "6  106      5          422.31799\n",
       "7  101      9          350.81003\n",
       "8  102      9          407.40794\n",
       "9  100      5           98.57463\n",
       "10 104      5          375.66993"
      ]
     },
     "metadata": {},
     "output_type": "display_data"
    }
   ],
   "source": [
    "variant <- 1\n",
    "samples <- 10\n",
    "data <- generate_sales_data(num_entries=samples, seed=variant)"
   ]
  },
  {
   "cell_type": "code",
   "execution_count": null,
   "id": "50f621ce",
   "metadata": {
    "vscode": {
     "languageId": "r"
    }
   },
   "outputs": [],
   "source": []
  },
  {
   "cell_type": "markdown",
   "id": "738ebf08-a3b9-4c03-9c61-ffc9550f59d7",
   "metadata": {},
   "source": [
    "1. Общая выручка\n",
    "\n",
    "Рассчитайте общую выручку магазина"
   ]
  },
  {
   "cell_type": "code",
   "execution_count": null,
   "id": "a46051bd-2c29-4cd0-bc14-13c41c96aac6",
   "metadata": {
    "vscode": {
     "languageId": "r"
    }
   },
   "outputs": [],
   "source": [
    "data%>%\n",
    "    "
   ]
  }
 ],
 "metadata": {
  "kernelspec": {
   "display_name": "R",
   "language": "R",
   "name": "ir"
  },
  "language_info": {
   "codemirror_mode": "r",
   "file_extension": ".r",
   "mimetype": "text/x-r-source",
   "name": "R",
   "pygments_lexer": "r",
   "version": "4.3.0"
  }
 },
 "nbformat": 4,
 "nbformat_minor": 5
}
