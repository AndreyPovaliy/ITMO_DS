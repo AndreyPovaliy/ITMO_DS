{
  "cells": [
    {
      "cell_type": "markdown",
      "metadata": {
        "id": "7J59gkitwWsR"
      },
      "source": [
        "## Основы NumPy: массивы и векторные вычисления.ipynb"
      ]
    },
    {
      "cell_type": "markdown",
      "metadata": {},
      "source": [
        "Загрзить numpy с псевдонимом"
      ]
    },
    {
      "cell_type": "code",
      "execution_count": null,
      "metadata": {
        "id": "hXU5TOw8d5_r"
      },
      "outputs": [],
      "source": [
        "# Загрзить numpy с псевдонимом"
      ]
    },
    {
      "cell_type": "markdown",
      "metadata": {},
      "source": [
        "Создать data:\n",
        "array([[3., 4., 5.],\n",
        "       [6., 7., 8.]])"
      ]
    },
    {
      "cell_type": "code",
      "execution_count": null,
      "metadata": {
        "id": "vJTwL4rTQlcm"
      },
      "outputs": [],
      "source": [
        "# Создать data:\n",
        "# array([[3., 4., 5.],\n",
        "#        [6., 7., 8.]])"
      ]
    },
    {
      "cell_type": "markdown",
      "metadata": {},
      "source": [
        "Прибавить 2\n",
        "array([[ 5.,  6.,  7.],\n",
        "       [ 8.,  9., 10.]])"
      ]
    },
    {
      "cell_type": "code",
      "execution_count": null,
      "metadata": {
        "colab": {
          "base_uri": "https://localhost:8080/"
        },
        "id": "90D0b9xkRscS",
        "outputId": "452fa543-1fb6-41ed-bcd8-9336ac31b24b"
      },
      "outputs": [],
      "source": [
        "# Прибавить 2\n",
        "# array([[ 5.,  6.,  7.],\n",
        "#        [ 8.,  9., 10.]])"
      ]
    },
    {
      "cell_type": "markdown",
      "metadata": {},
      "source": [
        "Умножить на 2\n",
        "array([[ 2.,  4.,  6.],\n",
        "       [ 8., 10., 12.]])"
      ]
    },
    {
      "cell_type": "code",
      "execution_count": null,
      "metadata": {
        "colab": {
          "base_uri": "https://localhost:8080/"
        },
        "id": "-8sTtgeuRO46",
        "outputId": "85bb3b86-243a-4874-9c94-5432d2f44e37"
      },
      "outputs": [],
      "source": [
        "# Умножить на 2\n",
        "# array([[ 2.,  4.,  6.],\n",
        "#        [ 8., 10., 12.]])"
      ]
    },
    {
      "cell_type": "markdown",
      "metadata": {},
      "source": [
        " поэлементное сложение элементов\n",
        " array([[ 2.,  4.,  6.],\n",
        "       [ 8., 10., 12.]])"
      ]
    },
    {
      "cell_type": "code",
      "execution_count": null,
      "metadata": {
        "colab": {
          "base_uri": "https://localhost:8080/"
        },
        "id": "WnZcpvnyRoAK",
        "outputId": "7e7e315a-82ff-4631-9f3f-6ec022447713"
      },
      "outputs": [],
      "source": [
        "#  поэлементное сложение элементов\n",
        "#  array([[ 2.,  4.,  6.],\n",
        "#        [ 8., 10., 12.]])"
      ]
    },
    {
      "cell_type": "markdown",
      "metadata": {},
      "source": [
        " поэлементное умножение элементов\n",
        " array([[ 9., 16., 25.],\n",
        "       [36., 49., 64.]])"
      ]
    },
    {
      "cell_type": "code",
      "execution_count": null,
      "metadata": {
        "colab": {
          "base_uri": "https://localhost:8080/"
        },
        "id": "7MAQGSygRSKQ",
        "outputId": "a3a0b828-86c2-4a62-b7f7-2282ab69b0a4"
      },
      "outputs": [],
      "source": []
    },
    {
      "cell_type": "markdown",
      "metadata": {},
      "source": [
        "поэлементное сравнение\n",
        "array([[ True,  True,  True],\n",
        "       [ True,  True,  True]])"
      ]
    },
    {
      "cell_type": "code",
      "execution_count": null,
      "metadata": {
        "colab": {
          "base_uri": "https://localhost:8080/"
        },
        "id": "EW40BzSdi5FM",
        "outputId": "b45462e1-2f9e-44f1-8cd8-eb278612728f"
      },
      "outputs": [],
      "source": []
    },
    {
      "cell_type": "markdown",
      "metadata": {},
      "source": [
        "поэлементное сравнение\n",
        "array([[False, False, False],\n",
        "       [False, False, False]])"
      ]
    },
    {
      "cell_type": "code",
      "execution_count": null,
      "metadata": {
        "colab": {
          "base_uri": "https://localhost:8080/"
        },
        "id": "SiQ-Oi6Xi9p5",
        "outputId": "e142d44d-b1d7-4da7-eca7-12f510379e91"
      },
      "outputs": [],
      "source": []
    },
    {
      "cell_type": "markdown",
      "metadata": {},
      "source": [
        "Создать data\n",
        "array([[[1., 2., 3.],\n",
        "        [4., 5., 6.]]])"
      ]
    },
    {
      "cell_type": "code",
      "execution_count": null,
      "metadata": {
        "id": "Jg9krLKYG8TD"
      },
      "outputs": [],
      "source": []
    },
    {
      "cell_type": "markdown",
      "metadata": {},
      "source": [
        "Получить размерность объекта"
      ]
    },
    {
      "cell_type": "code",
      "execution_count": null,
      "metadata": {
        "colab": {
          "base_uri": "https://localhost:8080/"
        },
        "id": "S8P0EKCpGmDZ",
        "outputId": "7af8ac19-9964-4efa-9d33-960a053c4d87"
      },
      "outputs": [],
      "source": []
    },
    {
      "cell_type": "markdown",
      "metadata": {
        "id": "n4zb_zGhYhqZ"
      },
      "source": [
        "Создать vector ось 1.0, 2.0, 4.0, 8.0"
      ]
    },
    {
      "cell_type": "code",
      "execution_count": null,
      "metadata": {
        "colab": {
          "base_uri": "https://localhost:8080/"
        },
        "id": "mGVEaChjY8ZC",
        "outputId": "08e736d5-2724-4dfe-9787-cf75befb54d8"
      },
      "outputs": [],
      "source": []
    },
    {
      "cell_type": "markdown",
      "metadata": {},
      "source": [
        "Создать matrix матрицу 1.0, 2.0 и 4.0, 8.0"
      ]
    },
    {
      "cell_type": "code",
      "execution_count": null,
      "metadata": {
        "colab": {
          "base_uri": "https://localhost:8080/"
        },
        "id": "1GwES-7rW2sF",
        "outputId": "b195e891-4796-48d9-ca74-6ba1093d13cc"
      },
      "outputs": [],
      "source": []
    },
    {
      "cell_type": "markdown",
      "metadata": {},
      "source": [
        "Получить 3хмерный массив \n",
        "[[[1. 2.]\n",
        "  [4. 8.]]]"
      ]
    },
    {
      "cell_type": "code",
      "execution_count": null,
      "metadata": {
        "colab": {
          "base_uri": "https://localhost:8080/"
        },
        "id": "sQ4Xz5HNZP5d",
        "outputId": "b479ec53-675f-4c2a-f645-cde423159ad5"
      },
      "outputs": [],
      "source": []
    },
    {
      "cell_type": "markdown",
      "metadata": {},
      "source": [
        "вывести размерность\n",
        "1) вектора,\n",
        "2) матрицы\n",
        "3) 3х мернргого массивыв"
      ]
    },
    {
      "cell_type": "code",
      "execution_count": null,
      "metadata": {
        "colab": {
          "base_uri": "https://localhost:8080/"
        },
        "id": "Vtmau9lAbTTD",
        "outputId": "b8315346-4692-4a61-c520-20a21a017f72"
      },
      "outputs": [],
      "source": []
    },
    {
      "cell_type": "markdown",
      "metadata": {},
      "source": [
        "Выввести тип данных matrix"
      ]
    },
    {
      "cell_type": "code",
      "execution_count": null,
      "metadata": {
        "colab": {
          "base_uri": "https://localhost:8080/"
        },
        "id": "MXPdisCZcO4C",
        "outputId": "4b952d03-ce7c-4ec1-8176-c3387066fa48"
      },
      "outputs": [],
      "source": []
    },
    {
      "cell_type": "markdown",
      "metadata": {},
      "source": [
        "Вывести тип объекта matrix"
      ]
    },
    {
      "cell_type": "code",
      "execution_count": null,
      "metadata": {
        "colab": {
          "base_uri": "https://localhost:8080/"
        },
        "id": "lu5aueiwLKiM",
        "outputId": "76122038-dfc3-4fa9-b6a8-d0a1828fecf8"
      },
      "outputs": [],
      "source": []
    },
    {
      "cell_type": "markdown",
      "metadata": {},
      "source": [
        "Вывести байты объекта matrix"
      ]
    },
    {
      "cell_type": "code",
      "execution_count": null,
      "metadata": {
        "colab": {
          "base_uri": "https://localhost:8080/"
        },
        "id": "Gx-LwSP9gipq",
        "outputId": "8dcef09f-c3d2-48d1-dc87-fefd55d85702"
      },
      "outputs": [],
      "source": []
    },
    {
      "cell_type": "markdown",
      "metadata": {},
      "source": [
        "Изменить matrix на int32\n",
        "Вывести matrix\n",
        "Вывести байты объектов"
      ]
    },
    {
      "cell_type": "code",
      "execution_count": null,
      "metadata": {
        "colab": {
          "base_uri": "https://localhost:8080/"
        },
        "id": "HsCbs63NfS8H",
        "outputId": "ccaad20e-7920-40d2-ffad-7806a1d9f135"
      },
      "outputs": [],
      "source": []
    },
    {
      "cell_type": "markdown",
      "metadata": {},
      "source": [
        "создать arr [1.0, np.nan, 3.0, np.nan]"
      ]
    },
    {
      "cell_type": "code",
      "execution_count": null,
      "metadata": {
        "colab": {
          "base_uri": "https://localhost:8080/"
        },
        "id": "c2q9o-rGy6_Z",
        "outputId": "89f7c284-f1c8-4562-8239-1fd87dcc8eb1"
      },
      "outputs": [],
      "source": []
    },
    {
      "cell_type": "markdown",
      "metadata": {
        "id": "98xus3-7ztda"
      },
      "source": [
        "Проверить на nan"
      ]
    },
    {
      "cell_type": "code",
      "execution_count": null,
      "metadata": {
        "colab": {
          "base_uri": "https://localhost:8080/"
        },
        "id": "WasOPJoFy8Sd",
        "outputId": "eddd165c-0ed5-4d1a-f1a5-8be7791c4c23"
      },
      "outputs": [],
      "source": []
    },
    {
      "cell_type": "markdown",
      "metadata": {},
      "source": [
        "Создать array2d \n",
        "[\n",
        "    [0.0, 0.1, 0.2], \n",
        "    [1.0, 1.1, 1.2], \n",
        "    [2.0, 2.1, 2.2]\n",
        "    ]"
      ]
    },
    {
      "cell_type": "code",
      "execution_count": null,
      "metadata": {
        "colab": {
          "base_uri": "https://localhost:8080/"
        },
        "id": "r6EnNBPz9OY1",
        "outputId": "129c71fd-c35e-42fd-f9b6-bd32d26a1612"
      },
      "outputs": [],
      "source": []
    },
    {
      "cell_type": "markdown",
      "metadata": {},
      "source": [
        "Вывести 2й вектор из array2d"
      ]
    },
    {
      "cell_type": "code",
      "execution_count": null,
      "metadata": {
        "colab": {
          "base_uri": "https://localhost:8080/"
        },
        "id": "bbYB6LBX90B8",
        "outputId": "4b1bb844-ffc8-4dbe-be6a-b36366d27fc1"
      },
      "outputs": [],
      "source": []
    },
    {
      "cell_type": "markdown",
      "metadata": {},
      "source": [
        "вывести 2ое значене из 2ого вектора"
      ]
    },
    {
      "cell_type": "code",
      "execution_count": null,
      "metadata": {
        "colab": {
          "base_uri": "https://localhost:8080/"
        },
        "id": "i3GfKFs494t6",
        "outputId": "421f09fc-e354-4570-c2e6-3df8f7d6de90"
      },
      "outputs": [],
      "source": []
    },
    {
      "cell_type": "markdown",
      "metadata": {},
      "source": [
        "вывестий 2й вектор, затем его 2ое число"
      ]
    },
    {
      "cell_type": "code",
      "execution_count": null,
      "metadata": {
        "colab": {
          "base_uri": "https://localhost:8080/"
        },
        "id": "qMNoLaUw_V-8",
        "outputId": "91c4a40e-4013-4411-9345-36d1755efb09"
      },
      "outputs": [],
      "source": []
    },
    {
      "cell_type": "markdown",
      "metadata": {},
      "source": [
        "Создать arr\n",
        "[[0,1,2],[3,4,5],[6,7,8]]"
      ]
    },
    {
      "cell_type": "code",
      "execution_count": null,
      "metadata": {
        "colab": {
          "base_uri": "https://localhost:8080/"
        },
        "id": "vww_8CxavLuJ",
        "outputId": "611b7a67-bfb7-4d25-85c5-fb09ac109180"
      },
      "outputs": [],
      "source": []
    },
    {
      "cell_type": "markdown",
      "metadata": {},
      "source": [
        "Вывести срез 3й строки"
      ]
    },
    {
      "cell_type": "code",
      "execution_count": null,
      "metadata": {
        "colab": {
          "base_uri": "https://localhost:8080/"
        },
        "id": "y6GeS5OuwI6h",
        "outputId": "f74c9837-b541-4712-870b-9fff013be37b"
      },
      "outputs": [],
      "source": []
    },
    {
      "cell_type": "markdown",
      "metadata": {},
      "source": [
        "Выполнить умножение 3 строки и внести в arr\n",
        "array([[ 0,  1,  2],\n",
        "       [ 3,  4,  5],\n",
        "       [24, 28, 32]])"
      ]
    },
    {
      "cell_type": "code",
      "execution_count": null,
      "metadata": {
        "colab": {
          "base_uri": "https://localhost:8080/"
        },
        "id": "mWeLB9Lnwk9z",
        "outputId": "ba05202d-c351-469c-f070-985525ccd1f5"
      },
      "outputs": [],
      "source": []
    },
    {
      "cell_type": "markdown",
      "metadata": {},
      "source": [
        "Получить\n",
        "array([[ 1],\n",
        "       [ 4],\n",
        "       [28]])"
      ]
    },
    {
      "cell_type": "code",
      "execution_count": null,
      "metadata": {
        "colab": {
          "base_uri": "https://localhost:8080/"
        },
        "id": "eXJHH7s7PgGw",
        "outputId": "7eaaed92-8a3f-4515-c75e-c8cdcb8d687f"
      },
      "outputs": [],
      "source": []
    },
    {
      "cell_type": "markdown",
      "metadata": {},
      "source": [
        "Создать:\n",
        "[\"Sergey\", \"Ivan\", \"Ivan\", \"Sergey\", \"Alexey\", \"Dmitrij\", \"Pavel\"]\n",
        "Создать масу по \"Sergey\""
      ]
    },
    {
      "cell_type": "code",
      "execution_count": null,
      "metadata": {
        "colab": {
          "base_uri": "https://localhost:8080/"
        },
        "id": "hlolhtCpJPej",
        "outputId": "5b2e8f69-57b4-43fb-ccd0-02d98ffb8bf2"
      },
      "outputs": [],
      "source": []
    },
    {
      "cell_type": "markdown",
      "metadata": {},
      "source": [
        "создать  numbers [1, 2, 3, 4, 5, 6, 7] и пременить предыдущую маску"
      ]
    },
    {
      "cell_type": "code",
      "execution_count": null,
      "metadata": {
        "colab": {
          "base_uri": "https://localhost:8080/"
        },
        "id": "1mAW_9-aLKpD",
        "outputId": "84ca367a-c0fc-4e4d-8c66-0eed8ff6f669"
      },
      "outputs": [],
      "source": []
    },
    {
      "cell_type": "markdown",
      "metadata": {},
      "source": [
        "Создать масу по \"Sergey\" или \"Ivan\""
      ]
    },
    {
      "cell_type": "code",
      "execution_count": null,
      "metadata": {
        "colab": {
          "base_uri": "https://localhost:8080/"
        },
        "id": "ftGygQPIJ5UG",
        "outputId": "8402c772-0cd9-4510-e919-b571e37791a2"
      },
      "outputs": [],
      "source": []
    },
    {
      "cell_type": "markdown",
      "metadata": {},
      "source": [
        "применить маску к numbers"
      ]
    },
    {
      "cell_type": "code",
      "execution_count": null,
      "metadata": {
        "colab": {
          "base_uri": "https://localhost:8080/"
        },
        "id": "jFjxeQqjKCea",
        "outputId": "1562e957-2280-4ae4-9da0-3d063d38cda5"
      },
      "outputs": [],
      "source": [
        "\n"
      ]
    },
    {
      "cell_type": "markdown",
      "metadata": {},
      "source": [
        "инверсию маски"
      ]
    },
    {
      "cell_type": "code",
      "execution_count": null,
      "metadata": {
        "colab": {
          "base_uri": "https://localhost:8080/"
        },
        "id": "DJUwOC4lKjNZ",
        "outputId": "283b73d3-79b1-452a-d131-32811246904d"
      },
      "outputs": [],
      "source": []
    },
    {
      "cell_type": "markdown",
      "metadata": {},
      "source": [
        "Создать arr [10, 20, 30, 40, 50]\n",
        "Создать indices [0, 2, 4]\n",
        "применить indices к arr"
      ]
    },
    {
      "cell_type": "code",
      "execution_count": null,
      "metadata": {
        "colab": {
          "base_uri": "https://localhost:8080/"
        },
        "id": "BiHHi7vyQmrq",
        "outputId": "d05ea6f4-0ab1-476c-e8b8-02b92298e71c"
      },
      "outputs": [],
      "source": []
    },
    {
      "cell_type": "markdown",
      "metadata": {},
      "source": [
        "изменить indices [4, 0, 0] и применить к arr"
      ]
    },
    {
      "cell_type": "code",
      "execution_count": null,
      "metadata": {
        "colab": {
          "base_uri": "https://localhost:8080/"
        },
        "id": "B3ngcpGKQ8pa",
        "outputId": "97d0a0da-d74b-4099-8b51-64532438d82e"
      },
      "outputs": [],
      "source": []
    },
    {
      "cell_type": "markdown",
      "metadata": {},
      "source": [
        "Создаем 2мерный массив\n",
        "[[1, 2, 3],\n",
        "[4, 5, 6],\n",
        "[7, 8, 9]]\n",
        "Создаем индекси по строкам и колонкам, чтобы забрать 2 и 9"
      ]
    },
    {
      "cell_type": "code",
      "execution_count": null,
      "metadata": {
        "colab": {
          "base_uri": "https://localhost:8080/"
        },
        "id": "D4SGZ3uIRWeQ",
        "outputId": "db0867b4-9084-447e-8226-27b45bdfa8be"
      },
      "outputs": [],
      "source": []
    },
    {
      "cell_type": "markdown",
      "metadata": {},
      "source": [
        "Создать arr [[0, 1, 2], [3, 4, 5], [6, 7, 8], [9, 10, 11], [12, 13, 14]]\n"
      ]
    },
    {
      "cell_type": "code",
      "execution_count": null,
      "metadata": {
        "colab": {
          "base_uri": "https://localhost:8080/"
        },
        "id": "eljKNE_-UWoK",
        "outputId": "83c9185f-fd4a-4b1c-fc7a-9c12b7e91773"
      },
      "outputs": [
        {
          "data": {
            "text/plain": [
              "array([[ 0,  1,  2],\n",
              "       [ 3,  4,  5],\n",
              "       [ 6,  7,  8],\n",
              "       [ 9, 10, 11],\n",
              "       [12, 13, 14]])"
            ]
          },
          "execution_count": 184,
          "metadata": {},
          "output_type": "execute_result"
        }
      ],
      "source": []
    },
    {
      "cell_type": "markdown",
      "metadata": {},
      "source": [
        "Транспонировать его"
      ]
    },
    {
      "cell_type": "code",
      "execution_count": null,
      "metadata": {
        "colab": {
          "base_uri": "https://localhost:8080/"
        },
        "id": "-QlkZQqWUrNe",
        "outputId": "5475b13a-fff8-4c49-d598-5ea07161f4a0"
      },
      "outputs": [],
      "source": []
    },
    {
      "cell_type": "markdown",
      "metadata": {},
      "source": [
        "A = np.array([[1,2],[3,4]])\n",
        "B = np.array([[4,3],[2,1]])\n",
        "\n",
        "перемножить 3мя способами"
      ]
    },
    {
      "cell_type": "code",
      "execution_count": null,
      "metadata": {
        "colab": {
          "base_uri": "https://localhost:8080/"
        },
        "id": "jMN91YAuVE3z",
        "outputId": "fcc88f19-be9c-4f27-cbcd-96411d1b2fa5"
      },
      "outputs": [],
      "source": []
    },
    {
      "cell_type": "markdown",
      "metadata": {},
      "source": [
        "v1 = np.array([1, 2, 3, 4])\n",
        "v2 = np.array([4, 3, 2, 1])\n",
        "\n",
        "перемножить"
      ]
    },
    {
      "cell_type": "code",
      "execution_count": null,
      "metadata": {
        "colab": {
          "base_uri": "https://localhost:8080/"
        },
        "id": "iuOWfvbral5j",
        "outputId": "5fd18fa8-b805-4c22-d9dc-17678d26ea8e"
      },
      "outputs": [],
      "source": []
    },
    {
      "cell_type": "markdown",
      "metadata": {},
      "source": [
        "Матрица (2,3)\n",
        "A = np.array([[1, 2, 3],\n",
        "              [4, 5, 6]])\n",
        "\n",
        "Вектор (3,)\n",
        "v = np.array([10, 20, 30])\n",
        "\n",
        "1) перемножить в result\n",
        "2) вывести в result\n",
        "3) получить размерность result"
      ]
    },
    {
      "cell_type": "code",
      "execution_count": null,
      "metadata": {
        "colab": {
          "base_uri": "https://localhost:8080/"
        },
        "id": "qYqf6f27t-DH",
        "outputId": "a12f6279-4b8f-46c2-f921-fe16239ff74a"
      },
      "outputs": [
        {
          "name": "stdout",
          "output_type": "stream",
          "text": [
            "[140 320]\n",
            "(2,)\n"
          ]
        }
      ],
      "source": []
    },
    {
      "cell_type": "markdown",
      "metadata": {},
      "source": [
        "data = np.array([1, 2, 2, 2, 3, 4, 4, 4, 1])\n",
        "\n",
        "1) Среднее значение\n",
        "2) Медиана\n",
        "3) Минимальное значение\n",
        "4) Максимальное значение\n",
        "5) Сумма элементов"
      ]
    },
    {
      "cell_type": "code",
      "execution_count": null,
      "metadata": {
        "colab": {
          "base_uri": "https://localhost:8080/"
        },
        "id": "3W1j6fjF4SC2",
        "outputId": "698a630f-0319-429d-8eda-7deb26a9c9f7"
      },
      "outputs": [],
      "source": []
    },
    {
      "cell_type": "markdown",
      "metadata": {},
      "source": [
        "Индекс максимального элемента"
      ]
    },
    {
      "cell_type": "code",
      "execution_count": null,
      "metadata": {
        "colab": {
          "base_uri": "https://localhost:8080/"
        },
        "id": "f7Z1jwj4ZxzX",
        "outputId": "f2557647-73a2-4016-95a1-13376a54da1f"
      },
      "outputs": [],
      "source": []
    },
    {
      "cell_type": "markdown",
      "metadata": {},
      "source": [
        "Индекс минимального элемента\n"
      ]
    },
    {
      "cell_type": "code",
      "execution_count": null,
      "metadata": {
        "colab": {
          "base_uri": "https://localhost:8080/"
        },
        "id": "GcSEyT5aacWd",
        "outputId": "974b2ed7-d168-48ea-ab28-3d2372ba6c6c"
      },
      "outputs": [],
      "source": []
    },
    {
      "cell_type": "markdown",
      "metadata": {},
      "source": [
        "Стандартное отклонение\n",
        "Дисперсия\n"
      ]
    },
    {
      "cell_type": "code",
      "execution_count": null,
      "metadata": {
        "colab": {
          "base_uri": "https://localhost:8080/"
        },
        "id": "dFoRPolviXQq",
        "outputId": "aaf44024-9ff2-4887-b2fc-cf079351e138"
      },
      "outputs": [],
      "source": []
    },
    {
      "cell_type": "markdown",
      "metadata": {},
      "source": [
        "matrix = np.array([[1, 2, 3],\n",
        "                   [4, 5, 6],\n",
        "                   [7, 8, 9]])\n",
        "\n",
        "1) Сумма по столбцам (axis=0)\n",
        "2) Среднее по строкам (axis=1)\n",
        "3) Максимум по всей матрице\n"
      ]
    },
    {
      "cell_type": "code",
      "execution_count": null,
      "metadata": {
        "colab": {
          "base_uri": "https://localhost:8080/"
        },
        "id": "ZqFPp4eN5tTZ",
        "outputId": "bbcb81fe-f575-4518-f4ea-cc6e3eb11d01"
      },
      "outputs": [],
      "source": []
    },
    {
      "cell_type": "markdown",
      "metadata": {},
      "source": [
        "data = np.array([10, 20, 30, 40, 50])\n",
        "\n",
        "25-й процентиль (первый квартиль)\n",
        "Медиана (50-й процентиль)\n",
        "90-й процентиль"
      ]
    },
    {
      "cell_type": "code",
      "execution_count": null,
      "metadata": {
        "colab": {
          "base_uri": "https://localhost:8080/"
        },
        "id": "xcH8Snwt6uxN",
        "outputId": "3216a8f5-bb41-4d66-a726-8f5c30efaefe"
      },
      "outputs": [],
      "source": []
    },
    {
      "cell_type": "markdown",
      "metadata": {},
      "source": [
        "X = np.array([1, 2, 3, 4, 5])\n",
        "Y = np.array([5, 4, 3, 2, 1])\n",
        "\n",
        "1) Матрица корреляции\n",
        "2) Матрица ковариации\n"
      ]
    },
    {
      "cell_type": "code",
      "execution_count": null,
      "metadata": {
        "colab": {
          "base_uri": "https://localhost:8080/"
        },
        "id": "QVf0oosk7S-7",
        "outputId": "41c94ba0-e57a-42e8-a460-b67342cd2fa3"
      },
      "outputs": [],
      "source": []
    },
    {
      "cell_type": "markdown",
      "metadata": {},
      "source": [
        "marks = np.array([5.0, 4.0, 5.0, 3.0, 5.0]) \n",
        "weights = np.array([1.0, 1.5, 1.0, 2.0, 1.0])\n",
        "\n",
        "посчитать средневзвешанное"
      ]
    },
    {
      "cell_type": "code",
      "execution_count": null,
      "metadata": {
        "colab": {
          "base_uri": "https://localhost:8080/"
        },
        "id": "-__KntW3lDBe",
        "outputId": "c8e31ef6-c1d9-476e-ddb4-835b0fa8de97"
      },
      "outputs": [],
      "source": []
    },
    {
      "cell_type": "markdown",
      "metadata": {},
      "source": [
        "data = np.array([2, 2, 3, 5, 5, 5])\n",
        "\n",
        "посчитать уникальные и их частоту"
      ]
    },
    {
      "cell_type": "code",
      "execution_count": null,
      "metadata": {
        "colab": {
          "base_uri": "https://localhost:8080/"
        },
        "id": "AZeD-MZSlNHl",
        "outputId": "bb2b300b-3ec9-4485-9c16-1574c80c7dcf"
      },
      "outputs": [],
      "source": []
    },
    {
      "cell_type": "markdown",
      "metadata": {},
      "source": [
        "Посчитать накопленную сумму\n",
        "\n",
        "data = np.array([1, 2, 3, 4, 5, 6])"
      ]
    },
    {
      "cell_type": "code",
      "execution_count": null,
      "metadata": {
        "colab": {
          "base_uri": "https://localhost:8080/"
        },
        "id": "GXfRJPB_lU0i",
        "outputId": "363111fa-0579-4bc3-869f-402e9343513d"
      },
      "outputs": [],
      "source": []
    }
  ],
  "metadata": {
    "colab": {
      "provenance": []
    },
    "kernelspec": {
      "display_name": "Python 3",
      "name": "python3"
    },
    "language_info": {
      "codemirror_mode": {
        "name": "ipython",
        "version": 3
      },
      "file_extension": ".py",
      "mimetype": "text/x-python",
      "name": "python",
      "nbconvert_exporter": "python",
      "pygments_lexer": "ipython3",
      "version": "3.9.6"
    }
  },
  "nbformat": 4,
  "nbformat_minor": 0
}
