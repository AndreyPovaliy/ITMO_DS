{
  "cells": [
    {
      "cell_type": "markdown",
      "metadata": {},
      "source": [
        "Импортировать pandas  и numpy, os и получить текущую директорию"
      ]
    },
    {
      "cell_type": "code",
      "execution_count": null,
      "metadata": {
        "id": "pGQq2J7GxBy9"
      },
      "outputs": [
        {
          "data": {
            "text/plain": [
              "'/Users/andreypovaliy/Documents/Education/ITMO_DS/05_python_for_data_analysis'"
            ]
          },
          "execution_count": 14,
          "metadata": {},
          "output_type": "execute_result"
        }
      ],
      "source": []
    },
    {
      "cell_type": "markdown",
      "metadata": {},
      "source": [
        "Создать серию [10, 20, 30, 40]"
      ]
    },
    {
      "cell_type": "code",
      "execution_count": null,
      "metadata": {
        "colab": {
          "base_uri": "https://localhost:8080/",
          "height": 207
        },
        "id": "X6GA1fIVl-RA",
        "outputId": "e511cb1d-3b9f-4024-c67e-57aee63a407c"
      },
      "outputs": [
        {
          "data": {
            "text/plain": [
              "0    10\n",
              "1    20\n",
              "2    30\n",
              "3    40\n",
              "dtype: int64"
            ]
          },
          "execution_count": 2,
          "metadata": {},
          "output_type": "execute_result"
        }
      ],
      "source": []
    },
    {
      "cell_type": "markdown",
      "metadata": {},
      "source": [
        "Создать серию [10, 20, 30, 40] с названиями сторок a,b,c,d"
      ]
    },
    {
      "cell_type": "code",
      "execution_count": null,
      "metadata": {
        "colab": {
          "base_uri": "https://localhost:8080/",
          "height": 176
        },
        "id": "Udj9ORFbnE4Q",
        "outputId": "bd6fa644-4dc0-4eee-95b2-772893dab283"
      },
      "outputs": [
        {
          "data": {
            "text/plain": [
              "a    10\n",
              "b    20\n",
              "c    30\n",
              "dtype: int64"
            ]
          },
          "execution_count": 3,
          "metadata": {},
          "output_type": "execute_result"
        }
      ],
      "source": []
    },
    {
      "cell_type": "markdown",
      "metadata": {},
      "source": [
        "создать серию из np"
      ]
    },
    {
      "cell_type": "code",
      "execution_count": null,
      "metadata": {
        "colab": {
          "base_uri": "https://localhost:8080/",
          "height": 207
        },
        "id": "WS7Ob-zfnikQ",
        "outputId": "a8e15ba4-4196-48e0-e1b9-a346ced682ca"
      },
      "outputs": [
        {
          "data": {
            "text/plain": [
              "0    1\n",
              "1    2\n",
              "2    3\n",
              "3    4\n",
              "dtype: int64"
            ]
          },
          "execution_count": 4,
          "metadata": {},
          "output_type": "execute_result"
        }
      ],
      "source": []
    },
    {
      "cell_type": "markdown",
      "metadata": {},
      "source": [
        "создать серию с индексами a,b,c,d"
      ]
    },
    {
      "cell_type": "code",
      "execution_count": null,
      "metadata": {
        "colab": {
          "base_uri": "https://localhost:8080/",
          "height": 176
        },
        "id": "TWKTeLaEnuR1",
        "outputId": "c7c262c8-c31a-4ee7-b7a3-27274d05e515"
      },
      "outputs": [
        {
          "data": {
            "text/plain": [
              "a    5\n",
              "b    5\n",
              "c    5\n",
              "dtype: int64"
            ]
          },
          "execution_count": 5,
          "metadata": {},
          "output_type": "execute_result"
        }
      ],
      "source": []
    },
    {
      "cell_type": "markdown",
      "metadata": {},
      "source": [
        "получить значения из серии"
      ]
    },
    {
      "cell_type": "code",
      "execution_count": null,
      "metadata": {
        "colab": {
          "base_uri": "https://localhost:8080/"
        },
        "id": "CM9LVy2Pn17x",
        "outputId": "ddb082ec-8a34-4caa-d4ac-7458acbcefa9"
      },
      "outputs": [
        {
          "data": {
            "text/plain": [
              "array([10, 20, 30, 40])"
            ]
          },
          "execution_count": 32,
          "metadata": {},
          "output_type": "execute_result"
        }
      ],
      "source": []
    },
    {
      "cell_type": "markdown",
      "metadata": {},
      "source": [
        "получить индексы из серии"
      ]
    },
    {
      "cell_type": "code",
      "execution_count": null,
      "metadata": {
        "colab": {
          "base_uri": "https://localhost:8080/"
        },
        "id": "iP_VXlZIn84T",
        "outputId": "a429e61a-350d-4e3c-bcdd-abac2aae4123"
      },
      "outputs": [],
      "source": []
    },
    {
      "cell_type": "markdown",
      "metadata": {},
      "source": [
        "создать df из массива [1, 2, 3],[4, 5, 6] с названиями колонок ['A', 'B', 'C']"
      ]
    },
    {
      "cell_type": "code",
      "execution_count": null,
      "metadata": {
        "colab": {
          "base_uri": "https://localhost:8080/",
          "height": 125
        },
        "id": "EFkMfR-do-jq",
        "outputId": "24c38d5c-bcbc-4ae2-f384-5830b0894ef3"
      },
      "outputs": [],
      "source": []
    },
    {
      "cell_type": "markdown",
      "metadata": {},
      "source": [
        "создать df из словоря {'A': [1, 4], 'B': [2, 5], 'C': [3, 6]}"
      ]
    },
    {
      "cell_type": "code",
      "execution_count": null,
      "metadata": {
        "colab": {
          "base_uri": "https://localhost:8080/",
          "height": 125
        },
        "id": "FkDoapoNoo84",
        "outputId": "0d55553b-14aa-42f5-8c5f-8f4abf005700"
      },
      "outputs": [],
      "source": []
    },
    {
      "cell_type": "markdown",
      "metadata": {},
      "source": [
        "# из словаря Series\n",
        "s1 = pd.Series([1, 2, 3], index=['a', 'b', 'c']) \n",
        "s2 = pd.Series([4, 5, 6], index=['a', 'b', 'c'])"
      ]
    },
    {
      "cell_type": "code",
      "execution_count": null,
      "metadata": {
        "colab": {
          "base_uri": "https://localhost:8080/",
          "height": 142
        },
        "id": "owdDFFK1pqz9",
        "outputId": "8d054d97-aba9-4b6c-be73-c9a9a78a25ce"
      },
      "outputs": [],
      "source": []
    },
    {
      "cell_type": "markdown",
      "metadata": {},
      "source": [
        "# из списка словарей\n",
        "{'A': 1, 'B': 2}, {'A': 3, 'B': 4, 'C': 5}"
      ]
    },
    {
      "cell_type": "code",
      "execution_count": null,
      "metadata": {
        "colab": {
          "base_uri": "https://localhost:8080/",
          "height": 125
        },
        "id": "qNzmU77dp564",
        "outputId": "2bd1a340-95af-447e-d38f-ff52d360111f"
      },
      "outputs": [],
      "source": []
    },
    {
      "cell_type": "markdown",
      "metadata": {},
      "source": [
        "из массива NumPy\n",
        "np.random.rand(3, 4) с колонками ['A', 'B', 'C', 'D']"
      ]
    },
    {
      "cell_type": "code",
      "execution_count": null,
      "metadata": {
        "colab": {
          "base_uri": "https://localhost:8080/",
          "height": 142
        },
        "id": "B1briqyOqOzl",
        "outputId": "b40cdf4a-872d-4157-e0e6-1e10078b36a9"
      },
      "outputs": [],
      "source": []
    },
    {
      "cell_type": "markdown",
      "metadata": {
        "id": "X1V8KE5IqVlK"
      },
      "source": [
        "Пустой DataFrame с колонками ['A', 'B', 'C']"
      ]
    },
    {
      "cell_type": "code",
      "execution_count": null,
      "metadata": {
        "colab": {
          "base_uri": "https://localhost:8080/",
          "height": 89
        },
        "id": "EPiN8CoBqVUf",
        "outputId": "f48f2186-8e99-4671-9b1c-e469ac53518e"
      },
      "outputs": [],
      "source": []
    },
    {
      "cell_type": "markdown",
      "metadata": {},
      "source": [
        "Прочитать csv из 'https://raw.githubusercontent.com/datasciencedojo/datasets/master/titanic.csv'\n",
        "сделать индекс 'PassengerId'"
      ]
    },
    {
      "cell_type": "code",
      "execution_count": null,
      "metadata": {
        "colab": {
          "base_uri": "https://localhost:8080/",
          "height": 235
        },
        "id": "28bArJkMsrjL",
        "outputId": "21ef0a73-7320-4a46-ce9e-a023d654ef39"
      },
      "outputs": [],
      "source": [
        "\n"
      ]
    },
    {
      "cell_type": "markdown",
      "metadata": {},
      "source": [
        "прочитать титаник csv"
      ]
    },
    {
      "cell_type": "code",
      "execution_count": null,
      "metadata": {
        "colab": {
          "base_uri": "https://localhost:8080/",
          "height": 204
        },
        "id": "0SoyWvErvOnr",
        "outputId": "e2859786-6830-4fa0-c1dc-92c9be22a2ae"
      },
      "outputs": [],
      "source": []
    },
    {
      "cell_type": "markdown",
      "metadata": {},
      "source": [
        "загрузить xlsx https://hbiostat.org/data/repo/titanic5.xlsx используя openpyxl"
      ]
    },
    {
      "cell_type": "code",
      "execution_count": null,
      "metadata": {
        "colab": {
          "base_uri": "https://localhost:8080/",
          "height": 474
        },
        "id": "bW5JXlDkud9N",
        "outputId": "9f29948c-b702-4618-a0dd-c833ffe4fade"
      },
      "outputs": [],
      "source": []
    },
    {
      "cell_type": "markdown",
      "metadata": {
        "id": "_v9iK5Nd6YYY"
      },
      "source": [
        "# ✅ **HTML-таблицы**"
      ]
    },
    {
      "cell_type": "markdown",
      "metadata": {},
      "source": [
        "url = \"https://en.wikipedia.org/wiki/Titanic\"\n",
        "прочитать таблицы\n",
        "вывести количество таблиц\n",
        "вывести первую"
      ]
    },
    {
      "cell_type": "code",
      "execution_count": null,
      "metadata": {
        "colab": {
          "base_uri": "https://localhost:8080/",
          "height": 438
        },
        "id": "RtcxtWoc6KFx",
        "outputId": "40baf1f1-7029-45bf-9d4f-c28267d3f40c"
      },
      "outputs": [],
      "source": []
    },
    {
      "cell_type": "markdown",
      "metadata": {
        "id": "mu9yBOI4AcNQ"
      },
      "source": [
        "# **Экспорт:**"
      ]
    },
    {
      "cell_type": "markdown",
      "metadata": {},
      "source": [
        "titanic_csv\n",
        "в csv\n",
        "exel\n",
        "json\n",
        "html"
      ]
    },
    {
      "cell_type": "code",
      "execution_count": null,
      "metadata": {
        "id": "-aM4JoO2Ab0z"
      },
      "outputs": [],
      "source": []
    },
    {
      "cell_type": "markdown",
      "metadata": {},
      "source": [
        "просмотр первых 5 строк titanic_csv"
      ]
    },
    {
      "cell_type": "code",
      "execution_count": null,
      "metadata": {
        "colab": {
          "base_uri": "https://localhost:8080/",
          "height": 235
        },
        "id": "Sd5C2v6MQCJm",
        "outputId": "462ba257-4277-4d59-e58f-fefe51166ec8"
      },
      "outputs": [],
      "source": []
    },
    {
      "cell_type": "markdown",
      "metadata": {},
      "source": [
        "размерность titanic_csv"
      ]
    },
    {
      "cell_type": "code",
      "execution_count": null,
      "metadata": {
        "colab": {
          "base_uri": "https://localhost:8080/"
        },
        "id": "dSDCjp3qP7hX",
        "outputId": "d0baaa56-a24e-487c-e8f5-13b21635a10c"
      },
      "outputs": [],
      "source": []
    },
    {
      "cell_type": "markdown",
      "metadata": {},
      "source": [
        "просмотр информации о датасете titanic_csv"
      ]
    },
    {
      "cell_type": "code",
      "execution_count": null,
      "metadata": {
        "colab": {
          "base_uri": "https://localhost:8080/"
        },
        "id": "f2H7812fPetW",
        "outputId": "a8e718cc-92d7-43fe-d8d4-74be86cf3b7c"
      },
      "outputs": [],
      "source": []
    },
    {
      "cell_type": "markdown",
      "metadata": {},
      "source": [
        "просмотр основных статистик titanic_csv"
      ]
    },
    {
      "cell_type": "code",
      "execution_count": null,
      "metadata": {
        "colab": {
          "base_uri": "https://localhost:8080/",
          "height": 297
        },
        "id": "V3fbpUt_P44n",
        "outputId": "a133f457-c4d1-4eb2-817d-9ba2a6093e19"
      },
      "outputs": [],
      "source": []
    },
    {
      "cell_type": "markdown",
      "metadata": {
        "id": "QQMTLcCeG4R1"
      },
      "source": [
        "## **Отбор строк и столбцов**"
      ]
    },
    {
      "cell_type": "markdown",
      "metadata": {},
      "source": [
        "import kagglehub # импортируем датасет с Kaggle\n",
        "\n",
        "path = kagglehub.dataset_download(\"mathchi/diabetes-data-set\")\n",
        "df = pd.read_csv(path + \"/diabetes.csv\")\n",
        "df.head()"
      ]
    },
    {
      "cell_type": "code",
      "execution_count": null,
      "metadata": {
        "colab": {
          "base_uri": "https://localhost:8080/",
          "height": 204
        },
        "id": "T-aT4GG9avHk",
        "outputId": "ca105b9b-088e-41d8-b8d7-10802198fb45"
      },
      "outputs": [],
      "source": []
    },
    {
      "cell_type": "markdown",
      "metadata": {},
      "source": [
        " отбор  столбца 'Insulin'"
      ]
    },
    {
      "cell_type": "code",
      "execution_count": null,
      "metadata": {
        "colab": {
          "base_uri": "https://localhost:8080/",
          "height": 453
        },
        "id": "m-sDI7bTffea",
        "outputId": "264a3559-907e-4763-88e0-1acfa8566856"
      },
      "outputs": [],
      "source": []
    },
    {
      "cell_type": "markdown",
      "metadata": {},
      "source": [
        "отбор столбцов  'Age','BMI'"
      ]
    },
    {
      "cell_type": "code",
      "execution_count": null,
      "metadata": {
        "colab": {
          "base_uri": "https://localhost:8080/",
          "height": 419
        },
        "id": "niXCgzfaexoy",
        "outputId": "727b4f13-2cb1-4939-d77a-e6405f55f33d"
      },
      "outputs": [],
      "source": []
    },
    {
      "cell_type": "markdown",
      "metadata": {
        "id": "DXMLPHktaOal"
      },
      "source": [
        "**Отбор и фильтрация строк**"
      ]
    },
    {
      "cell_type": "markdown",
      "metadata": {},
      "source": [
        "булева индексация Age == 50"
      ]
    },
    {
      "cell_type": "code",
      "execution_count": null,
      "metadata": {
        "colab": {
          "base_uri": "https://localhost:8080/",
          "height": 297
        },
        "id": "Bv6aAWyCGzw1",
        "outputId": "28b65bde-304d-4f2f-d4a8-c03affdbad89"
      },
      "outputs": [],
      "source": []
    },
    {
      "cell_type": "markdown",
      "metadata": {},
      "source": [
        "'Pregnancies' == 0 и 'Age'  < 30"
      ]
    },
    {
      "cell_type": "code",
      "execution_count": null,
      "metadata": {
        "colab": {
          "base_uri": "https://localhost:8080/",
          "height": 419
        },
        "id": "MFcoHwohbPGy",
        "outputId": "d909a1ae-8031-4005-cdf9-9e803eb56dfe"
      },
      "outputs": [],
      "source": []
    },
    {
      "cell_type": "markdown",
      "metadata": {},
      "source": [
        "Фильтрация по списку значений 'Glucose' == [99, 100]"
      ]
    },
    {
      "cell_type": "code",
      "execution_count": null,
      "metadata": {
        "colab": {
          "base_uri": "https://localhost:8080/",
          "height": 1000
        },
        "id": "2hLDGVRmgqk5",
        "outputId": "30ebee58-c949-44d1-cb79-10db393b080a"
      },
      "outputs": [],
      "source": []
    },
    {
      "cell_type": "markdown",
      "metadata": {
        "id": "xkquuGROcDOk"
      },
      "source": [
        "**Отбор строк по индексам**"
      ]
    },
    {
      "cell_type": "markdown",
      "metadata": {},
      "source": [
        "Отбор 1,6,99"
      ]
    },
    {
      "cell_type": "code",
      "execution_count": null,
      "metadata": {
        "colab": {
          "base_uri": "https://localhost:8080/",
          "height": 142
        },
        "id": "WWeIBVMRbzmh",
        "outputId": "2adee141-e2aa-4fee-f48d-109319898e7a"
      },
      "outputs": [],
      "source": []
    },
    {
      "cell_type": "markdown",
      "metadata": {},
      "source": [
        "отбор 1,2,3 строки и столбцы 'Glucose','BloodPressure','Insulin'"
      ]
    },
    {
      "cell_type": "code",
      "execution_count": null,
      "metadata": {
        "colab": {
          "base_uri": "https://localhost:8080/",
          "height": 142
        },
        "id": "Upicududdgez",
        "outputId": "9352121a-aa66-4cf2-d01b-b8b0a652eab5"
      },
      "outputs": [],
      "source": []
    },
    {
      "cell_type": "markdown",
      "metadata": {
        "id": "qjXBG16XcbHM"
      },
      "source": [
        "**Отбор ячейки**"
      ]
    },
    {
      "cell_type": "markdown",
      "metadata": {},
      "source": [
        "отбор 1 ячейки"
      ]
    },
    {
      "cell_type": "code",
      "execution_count": null,
      "metadata": {
        "colab": {
          "base_uri": "https://localhost:8080/"
        },
        "id": "kOVBMKWlcM5g",
        "outputId": "b63c8166-7f2d-4d2a-d93e-24a6aaf789ca"
      },
      "outputs": [],
      "source": []
    },
    {
      "cell_type": "markdown",
      "metadata": {},
      "source": [
        "отбор 1 ячейки по 'Glucose'"
      ]
    },
    {
      "cell_type": "code",
      "execution_count": null,
      "metadata": {
        "colab": {
          "base_uri": "https://localhost:8080/"
        },
        "id": "iS7OZrCNcgne",
        "outputId": "045a1821-f9ad-478b-c47a-c84cbbfac5ca"
      },
      "outputs": [],
      "source": []
    },
    {
      "cell_type": "markdown",
      "metadata": {},
      "source": [
        "Доступ к одному значению 1 ячейки для пары строк/столбцов по целочисленной позиции"
      ]
    },
    {
      "cell_type": "code",
      "execution_count": null,
      "metadata": {
        "colab": {
          "base_uri": "https://localhost:8080/"
        },
        "id": "FFt83Nwy7-AI",
        "outputId": "bdcd72d5-7872-444f-a697-8271c436abaf"
      },
      "outputs": [],
      "source": []
    },
    {
      "cell_type": "markdown",
      "metadata": {
        "id": "wYqu7fMZW0n3"
      },
      "source": [
        "**Отбор столбцов по типам данных**"
      ]
    },
    {
      "cell_type": "markdown",
      "metadata": {},
      "source": [
        "Отобрать только объекты (titanic_csv)"
      ]
    },
    {
      "cell_type": "code",
      "execution_count": null,
      "metadata": {
        "colab": {
          "base_uri": "https://localhost:8080/",
          "height": 450
        },
        "id": "j5vSTL1zWqt3",
        "outputId": "2ec7233b-5ade-45c0-fd4b-3606516b6aa3"
      },
      "outputs": [],
      "source": []
    },
    {
      "cell_type": "markdown",
      "metadata": {},
      "source": [
        "Исключить только объекты (titanic_csv)"
      ]
    },
    {
      "cell_type": "code",
      "execution_count": null,
      "metadata": {
        "colab": {
          "base_uri": "https://localhost:8080/",
          "height": 450
        },
        "id": "k7qkq2K6W6a4",
        "outputId": "04270450-7a62-453d-c94d-9a328a7dccd6"
      },
      "outputs": [],
      "source": []
    }
  ],
  "metadata": {
    "colab": {
      "provenance": []
    },
    "kernelspec": {
      "display_name": "Python 3",
      "name": "python3"
    },
    "language_info": {
      "codemirror_mode": {
        "name": "ipython",
        "version": 3
      },
      "file_extension": ".py",
      "mimetype": "text/x-python",
      "name": "python",
      "nbconvert_exporter": "python",
      "pygments_lexer": "ipython3",
      "version": "3.9.6"
    }
  },
  "nbformat": 4,
  "nbformat_minor": 0
}
