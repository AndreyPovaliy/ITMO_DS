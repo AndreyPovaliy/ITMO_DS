{
  "cells": [
    {
      "cell_type": "markdown",
      "metadata": {
        "id": "5Ws-gb9VL4aX"
      },
      "source": [
        "## Лабораторная работа №1 -> Numpy\n",
        "\n",
        "\n",
        "---\n",
        "\n"
      ]
    },
    {
      "cell_type": "code",
      "execution_count": 17,
      "metadata": {
        "id": "5LJN9S9tJgaL"
      },
      "outputs": [],
      "source": [
        "import numpy as np\n",
        "\n",
        "# Функция для генерации случайных данных\n",
        "def generate_sales_data(num_entries=10, seed=42):\n",
        "    np.random.seed(seed)  # Фиксируем случайность\n",
        "    item_ids = np.random.randint(100, 110, size=num_entries)  # ID товаров (100-109)\n",
        "    quantities = np.random.randint(1, 10, size=num_entries)   # Количество проданных единиц (1-9)\n",
        "    prices = np.random.uniform(50, 500, size=num_entries)     # Цена за единицу (50.0 - 500.0)\n",
        "    return np.column_stack((item_ids, quantities, prices))  # Объединяем в один массив"
      ]
    },
    {
      "cell_type": "markdown",
      "metadata": {
        "id": "YtP6d5ZFKN8n"
      },
      "source": [
        "**Укажите ваш вариант и количество семплов**"
      ]
    },
    {
      "cell_type": "code",
      "execution_count": 18,
      "metadata": {
        "id": "owqqy9HDJ-eT"
      },
      "outputs": [],
      "source": [
        "# Мой вариант\n",
        "\n",
        "variant = 1\n",
        "samples = 10\n",
        "data = generate_sales_data(num_entries=samples, seed=variant)"
      ]
    },
    {
      "cell_type": "markdown",
      "metadata": {
        "id": "hOcGTHCoQFhO"
      },
      "source": [
        "## Задание:"
      ]
    },
    {
      "cell_type": "markdown",
      "metadata": {
        "id": "glXW7degNkQI"
      },
      "source": [
        "Вы работаете с данными о продажах интернет-магазина. Ваша задача — обработать и проанализировать массив данных с использованием только библиотеки `numpy`.\n",
        "\n",
        "**Исходные данные:**\n",
        "\n",
        "Данные представлены в виде 2D-массива numpy, где:\n",
        "\n",
        "\t•\tСтолбец 0 — ID товара\n",
        "\t•\tСтолбец 1 — Количество проданных единиц\n",
        "\t•\tСтолбец 2 — Цена за единицу"
      ]
    },
    {
      "cell_type": "markdown",
      "metadata": {
        "id": "KeRwl8lKN-dO"
      },
      "source": [
        "например:\n",
        "\n",
        "```\n",
        "array([[105.        ,   3.        , 113.17412237],\n",
        "       [108.        ,   5.        , 139.14567009],\n",
        "       [109.        ,   6.        , 410.3350559 ],\n",
        "       [105.        ,   3.        , 485.71770907],\n",
        "       [100.        ,   5.        , 191.04088017],\n",
        "       [100.        ,   3.        , 361.54517705],\n",
        "       [101.        ,   5.        , 444.37511853],\n",
        "       [107.        ,   8.        , 452.57299858],\n",
        "       [106.        ,   8.        ,  88.26989512],\n",
        "       [109.        ,   2.        ,  67.57465245]])\n",
        "```\n",
        "\n"
      ]
    },
    {
      "cell_type": "markdown",
      "metadata": {
        "id": "FLLIA93rMMDV"
      },
      "source": [
        "**1.\tОбщая выручка**\n",
        "\n",
        "Рассчитайте общую выручку магазина"
      ]
    },
    {
      "cell_type": "code",
      "execution_count": null,
      "metadata": {
        "id": "22v6Td9gMXHL"
      },
      "outputs": [
        {
          "name": "stdout",
          "output_type": "stream",
          "text": [
            "Общая выручка: 13678.022159322278\n"
          ]
        }
      ],
      "source": [
        "# ваш код здесь\n",
        "print(f'Общая выручка: {np.sum(data[:, 1] * data[:,2]):2f}')"
      ]
    },
    {
      "cell_type": "markdown",
      "metadata": {
        "id": "E7B0v6waMauL"
      },
      "source": [
        "**2.\tОбщая выручка по каждому товару**\n",
        "\n",
        "Выведите общую выручку для каждого уникального товара (по ID)."
      ]
    },
    {
      "cell_type": "code",
      "execution_count": null,
      "metadata": {
        "id": "x2UDDxYCMnPO"
      },
      "outputs": [
        {
          "name": "stdout",
          "output_type": "stream",
          "text": [
            "[100. 101. 105. 106. 107. 108. 109.]\n",
            "Товар 100.0: 2039.839932\n",
            "Товар 101.0: 2221.875593\n",
            "Товар 105.0: 1796.675494\n",
            "Товар 106.0: 706.159161\n",
            "Товар 107.0: 3620.583989\n",
            "Товар 108.0: 695.728350\n",
            "Товар 109.0: 2597.159640\n"
          ]
        }
      ],
      "source": [
        "# ваш код здесь\n",
        "unique_ids = np.unique(data[:, 0])\n",
        "print(unique_ids)\n",
        "for id in unique_ids:\n",
        "    revenue = np.sum(data[data[:, 0] == id][:,1] * data[data[:, 0]== id][:,2])\n",
        "    print(f'Товар {id}: {revenue:2f}')"
      ]
    },
    {
      "cell_type": "markdown",
      "metadata": {
        "id": "Ch0-yeLoMq3E"
      },
      "source": [
        "**3. Товар приносящий самую большую выручку**\n",
        "\n",
        "Определите ID товара, который принес наибольшую выручку."
      ]
    },
    {
      "cell_type": "code",
      "execution_count": null,
      "metadata": {
        "id": "qJM7kMkNM-Nk"
      },
      "outputs": [
        {
          "name": "stdout",
          "output_type": "stream",
          "text": [
            "2\n",
            "ID товара, который принес наибольшую выручку: 109.0\n"
          ]
        }
      ],
      "source": [
        "# ваш код здесь\n",
        "index_max_price = np.argmax(data[2, :])\n",
        "print(f'ID товара, который принес наибольшую выручку: {data[index_max_price,0]}')"
      ]
    },
    {
      "cell_type": "markdown",
      "metadata": {
        "id": "p5dm1l6nNCaS"
      },
      "source": [
        "**4. Средневзвешанная цена проданных товаров**\n",
        "\n",
        "Рассчитайте среднюю цену проданных товаров, взвешенную по их количеству."
      ]
    },
    {
      "cell_type": "code",
      "execution_count": 160,
      "metadata": {
        "id": "yKrKLvRyNB4q"
      },
      "outputs": [],
      "source": [
        "# ваш код здесь\n"
      ]
    },
    {
      "cell_type": "markdown",
      "metadata": {
        "id": "VyNKTFCKNYoo"
      },
      "source": [
        "**5. Товар с наибольшим количеством продаж**\n",
        "\n",
        "Найдите ID товара, который был продан в наибольшем количестве.\n"
      ]
    },
    {
      "cell_type": "code",
      "execution_count": 161,
      "metadata": {
        "collapsed": true,
        "id": "kObnjOtGNYLE"
      },
      "outputs": [],
      "source": [
        "# ваш код здесь\n"
      ]
    },
    {
      "cell_type": "markdown",
      "metadata": {
        "id": "keRuVVS6PtvP"
      },
      "source": [
        "**6. Товар с наименьшим количеством продаж**\n",
        "\n",
        "Найдите ID товара, который был продан в наименьшем количестве.\n"
      ]
    },
    {
      "cell_type": "code",
      "execution_count": 162,
      "metadata": {
        "id": "I8O8Ddk1Pstp"
      },
      "outputs": [],
      "source": [
        "# ваш код здесь\n"
      ]
    },
    {
      "cell_type": "markdown",
      "metadata": {
        "id": "rdiybChFQ5J5"
      },
      "source": [
        "**7. Топ-3 самых продаваемых товаров**\n",
        "\n",
        "Выведите ID товаров, которые были проданы в наибольшем количестве единиц."
      ]
    },
    {
      "cell_type": "code",
      "execution_count": 163,
      "metadata": {
        "id": "OH8sHhBBREzw"
      },
      "outputs": [],
      "source": [
        "# ваш код здесь\n"
      ]
    },
    {
      "cell_type": "markdown",
      "metadata": {
        "id": "7Qdw9m2FRpId"
      },
      "source": [
        "**8. Медианная цена проданных товаров**\n",
        "\n",
        "Выведите медианную цену всех проданных товароов"
      ]
    },
    {
      "cell_type": "code",
      "execution_count": 164,
      "metadata": {
        "id": "-9qBKZ-PR1_m"
      },
      "outputs": [],
      "source": [
        "# ваш код здесь\n"
      ]
    }
  ],
  "metadata": {
    "colab": {
      "provenance": []
    },
    "kernelspec": {
      "display_name": "Python 3",
      "name": "python3"
    },
    "language_info": {
      "codemirror_mode": {
        "name": "ipython",
        "version": 3
      },
      "file_extension": ".py",
      "mimetype": "text/x-python",
      "name": "python",
      "nbconvert_exporter": "python",
      "pygments_lexer": "ipython3",
      "version": "3.9.6"
    }
  },
  "nbformat": 4,
  "nbformat_minor": 0
}
