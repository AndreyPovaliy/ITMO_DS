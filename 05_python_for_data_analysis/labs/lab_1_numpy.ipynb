{
 "cells": [
  {
   "cell_type": "markdown",
   "metadata": {
    "id": "5Ws-gb9VL4aX"
   },
   "source": [
    "## Лабораторная работа №1 -> Numpy\n",
    "\n",
    "\n",
    "---\n",
    "\n"
   ]
  },
  {
   "cell_type": "code",
   "execution_count": 12,
   "metadata": {
    "id": "5LJN9S9tJgaL"
   },
   "outputs": [],
   "source": [
    "import numpy as np\n",
    "\n",
    "# Функция для генерации случайных данных\n",
    "def generate_sales_data(num_entries=10, seed=42):\n",
    "    np.random.seed(seed)  # Фиксируем случайность\n",
    "    item_ids = np.random.randint(100, 110, size=num_entries)  # ID товаров (100-109)\n",
    "    quantities = np.random.randint(1, 10, size=num_entries)   # Количество проданных единиц (1-9)\n",
    "    prices = np.random.uniform(50, 500, size=num_entries)     # Цена за единицу (50.0 - 500.0)\n",
    "    return np.column_stack((item_ids, quantities, prices))  # Объединяем в один массив"
   ]
  },
  {
   "cell_type": "markdown",
   "metadata": {
    "id": "YtP6d5ZFKN8n"
   },
   "source": [
    "**Укажите ваш вариант и количество семплов**"
   ]
  },
  {
   "cell_type": "code",
   "execution_count": 13,
   "metadata": {
    "id": "owqqy9HDJ-eT"
   },
   "outputs": [
    {
     "data": {
      "text/plain": [
       "array([[105.        ,   3.        , 113.17412237],\n",
       "       [108.        ,   5.        , 139.14567009],\n",
       "       [109.        ,   6.        , 410.3350559 ],\n",
       "       [105.        ,   3.        , 485.71770907],\n",
       "       [100.        ,   5.        , 191.04088017],\n",
       "       [100.        ,   3.        , 361.54517705],\n",
       "       [101.        ,   5.        , 444.37511853],\n",
       "       [107.        ,   8.        , 452.57299858],\n",
       "       [106.        ,   8.        ,  88.26989512],\n",
       "       [109.        ,   2.        ,  67.57465245]])"
      ]
     },
     "execution_count": 13,
     "metadata": {},
     "output_type": "execute_result"
    }
   ],
   "source": [
    "# Мой вариант\n",
    "variant = 1\n",
    "samples = 10\n",
    "data = generate_sales_data(num_entries=samples, seed=variant)\n",
    "data"
   ]
  },
  {
   "cell_type": "code",
   "execution_count": 14,
   "metadata": {},
   "outputs": [
    {
     "data": {
      "text/plain": [
       "array([[ 100.        ,    8.        ,  552.58605722, 4420.68845778],\n",
       "       [ 101.        ,    5.        ,  444.37511853, 2221.87559267],\n",
       "       [ 105.        ,    6.        ,  598.89183144, 3593.35098865],\n",
       "       [ 106.        ,    8.        ,   88.26989512,  706.15916093],\n",
       "       [ 107.        ,    8.        ,  452.57299858, 3620.58398861],\n",
       "       [ 108.        ,    5.        ,  139.14567009,  695.72835044],\n",
       "       [ 109.        ,    8.        ,  477.90970836, 3823.27766687]])"
      ]
     },
     "execution_count": 14,
     "metadata": {},
     "output_type": "execute_result"
    }
   ],
   "source": [
    "'''\n",
    "Скоре всего понадобятся данные сгруппиранные по ID,\n",
    "этого подготовим отдельный массив с уникальными ID и суммой дохода\n",
    "'''\n",
    "unique_ids = np.unique(data[:, 0])\n",
    "revenue_by_id = []\n",
    "count_by_id = []\n",
    "for id in range(len(unique_ids)):\n",
    "    revenue_by_id = np.append(revenue_by_id,sum(data[:,2][data[:,0] == unique_ids[id]]))\n",
    "    count_by_id = np.append(count_by_id,sum(data[:,1][data[:,0] == unique_ids[id]]))\n",
    "    total_revenue = revenue_by_id * count_by_id\n",
    "\n",
    "data_group_id = np.column_stack((unique_ids,count_by_id,revenue_by_id,total_revenue))\n",
    "data_group_id"
   ]
  },
  {
   "cell_type": "markdown",
   "metadata": {
    "id": "hOcGTHCoQFhO",
    "jupyter": {
     "source_hidden": true
    }
   },
   "source": [
    "## Задание:"
   ]
  },
  {
   "cell_type": "markdown",
   "metadata": {
    "id": "glXW7degNkQI",
    "jupyter": {
     "source_hidden": true
    }
   },
   "source": [
    "Вы работаете с данными о продажах интернет-магазина. Ваша задача — обработать и проанализировать массив данных с использованием только библиотеки `numpy`.\n",
    "\n",
    "**Исходные данные:**\n",
    "\n",
    "Данные представлены в виде 2D-массива numpy, где:\n",
    "\n",
    "\t•\tСтолбец 0 — ID товара\n",
    "\t•\tСтолбец 1 — Количество проданных единиц\n",
    "\t•\tСтолбец 2 — Цена за единицу"
   ]
  },
  {
   "cell_type": "markdown",
   "metadata": {
    "id": "KeRwl8lKN-dO"
   },
   "source": [
    "например:\n",
    "\n",
    "```\n",
    "array([[105.        ,   3.        , 113.17412237],\n",
    "       [108.        ,   5.        , 139.14567009],\n",
    "       [109.        ,   6.        , 410.3350559 ],\n",
    "       [105.        ,   3.        , 485.71770907],\n",
    "       [100.        ,   5.        , 191.04088017],\n",
    "       [100.        ,   3.        , 361.54517705],\n",
    "       [101.        ,   5.        , 444.37511853],\n",
    "       [107.        ,   8.        , 452.57299858],\n",
    "       [106.        ,   8.        ,  88.26989512],\n",
    "       [109.        ,   2.        ,  67.57465245]])\n",
    "```\n",
    "\n"
   ]
  },
  {
   "cell_type": "markdown",
   "metadata": {
    "id": "FLLIA93rMMDV"
   },
   "source": [
    "**1.\tОбщая выручка**\n",
    "\n",
    "Рассчитайте общую выручку магазина"
   ]
  },
  {
   "cell_type": "code",
   "execution_count": 15,
   "metadata": {
    "id": "22v6Td9gMXHL"
   },
   "outputs": [
    {
     "name": "stdout",
     "output_type": "stream",
     "text": [
      "Общая выручка: 13678.02\n"
     ]
    }
   ],
   "source": [
    "# ваш код здесь\n",
    "print(f'Общая выручка: {np.round(np.sum(data[:,1] * data[:,2]),2)}')"
   ]
  },
  {
   "cell_type": "markdown",
   "metadata": {
    "id": "E7B0v6waMauL"
   },
   "source": [
    "**2.\tОбщая выручка по каждому товару**\n",
    "\n",
    "Выведите общую выручку для каждого уникального товара (по ID)."
   ]
  },
  {
   "cell_type": "code",
   "execution_count": 22,
   "metadata": {
    "id": "x2UDDxYCMnPO"
   },
   "outputs": [
    {
     "name": "stdout",
     "output_type": "stream",
     "text": [
      "Для ID 100.0 товара, выручка была: 4420.69\n",
      "Для ID 101.0 товара, выручка была: 2221.88\n",
      "Для ID 105.0 товара, выручка была: 3593.35\n",
      "Для ID 106.0 товара, выручка была: 706.16\n",
      "Для ID 107.0 товара, выручка была: 3620.58\n",
      "Для ID 108.0 товара, выручка была: 695.73\n",
      "Для ID 109.0 товара, выручка была: 3823.28\n"
     ]
    }
   ],
   "source": [
    "# ваш код здесь\n",
    "for i in range(len(data_group_id[:,0])):\n",
    "    print(f\"Для ID {data_group_id[i,0]} товара, выручка была: {np.round(data_group_id[i,3],2)}\")\n"
   ]
  },
  {
   "cell_type": "markdown",
   "metadata": {
    "id": "Ch0-yeLoMq3E"
   },
   "source": [
    "**3. Товар приносящий самую большую выручку**\n",
    "\n",
    "Определите ID товара, который принес наибольшую выручку."
   ]
  },
  {
   "cell_type": "code",
   "execution_count": 6,
   "metadata": {
    "id": "qJM7kMkNM-Nk"
   },
   "outputs": [
    {
     "name": "stdout",
     "output_type": "stream",
     "text": [
      "ID 100.0 товара, который принес наибольшую выручку: 4420.69\n"
     ]
    }
   ],
   "source": [
    "# ваш код здесь\n",
    "index_max_price = np.argmax(data_group_id[:,3])\n",
    "print(f'ID {data_group_id[index_max_price,0]} товара, который принес наибольшую выручку: {round(data_group_id[index_max_price,3],2)}')"
   ]
  },
  {
   "cell_type": "markdown",
   "metadata": {
    "id": "p5dm1l6nNCaS"
   },
   "source": [
    "**4. Средневзвешанная цена проданных товаров**\n",
    "\n",
    "Рассчитайте среднюю цену проданных товаров, взвешенную по их количеству."
   ]
  },
  {
   "cell_type": "code",
   "execution_count": 7,
   "metadata": {
    "id": "yKrKLvRyNB4q"
   },
   "outputs": [
    {
     "name": "stdout",
     "output_type": "stream",
     "text": [
      "Средневзвешенное: 284.96\n"
     ]
    }
   ],
   "source": [
    "# ваш код здесь\n",
    "marks = data[:,2]\n",
    "weights = data[:,1]\n",
    "\n",
    "weighted_avg = np.average(marks, weights=weights)\n",
    "print(\"Средневзвешенное:\", round(weighted_avg,2))"
   ]
  },
  {
   "cell_type": "markdown",
   "metadata": {
    "id": "VyNKTFCKNYoo"
   },
   "source": [
    "**5. Товар с наибольшим количеством продаж**\n",
    "\n",
    "Найдите ID товара, который был продан в наибольшем количестве.\n"
   ]
  },
  {
   "cell_type": "code",
   "execution_count": 8,
   "metadata": {
    "collapsed": true,
    "id": "kObnjOtGNYLE",
    "jupyter": {
     "outputs_hidden": true
    }
   },
   "outputs": [
    {
     "name": "stdout",
     "output_type": "stream",
     "text": [
      "ID 105.0 товара, который был продан в наибольшем количестве: 6.0 раз\n"
     ]
    }
   ],
   "source": [
    "# ваш код здесь\n",
    "index_max_count = np.argmax(data_group_id[:,2])\n",
    "print(f'ID {data_group_id[index_max_count,0]} товара, который был продан в наибольшем количестве: {round(data_group_id[index_max_count,1],0)} раз')"
   ]
  },
  {
   "cell_type": "markdown",
   "metadata": {
    "id": "keRuVVS6PtvP"
   },
   "source": [
    "**6. Товар с наименьшим количеством продаж**\n",
    "\n",
    "Найдите ID товара, который был продан в наименьшем количестве.\n"
   ]
  },
  {
   "cell_type": "code",
   "execution_count": 9,
   "metadata": {
    "id": "I8O8Ddk1Pstp"
   },
   "outputs": [
    {
     "name": "stdout",
     "output_type": "stream",
     "text": [
      "1\n",
      "ID 101.0 товара, который был продан в наименьшем количестве: 5.0 раз\n"
     ]
    }
   ],
   "source": [
    "# ваш код здесь\n",
    "index_min_count = np.argmin(data_group_id[:,1])\n",
    "print(index_min_count)\n",
    "print(f'ID {data_group_id[index_min_count,0]} товара, который был продан в наименьшем количестве: {round(data_group_id[index_min_count,1],0)} раз')"
   ]
  },
  {
   "cell_type": "markdown",
   "metadata": {
    "id": "rdiybChFQ5J5"
   },
   "source": [
    "**7. Топ-3 самых продаваемых товаров**\n",
    "\n",
    "Выведите ID товаров, которые были проданы в наибольшем количестве единиц."
   ]
  },
  {
   "cell_type": "code",
   "execution_count": 10,
   "metadata": {
    "id": "OH8sHhBBREzw"
   },
   "outputs": [
    {
     "name": "stdout",
     "output_type": "stream",
     "text": [
      "NB! Значений более 3х!\n",
      "Топ-3 самых продаваемых\n",
      "100.0\n",
      "101.0\n",
      "105.0\n"
     ]
    }
   ],
   "source": [
    "# ваш код здесь\n",
    "order_count = np.sort(data_group_id[:,1], )[::-1]\n",
    "index_vec = np.array([0,1,2])\n",
    "order_count= np.unique(order_count[index_vec])\n",
    "index = []\n",
    "\n",
    "for i in range(len(order_count)):\n",
    "    round = np.where(data_group_id[:,1] == order_count[i])\n",
    "    index = np.append(index,round)\n",
    "\n",
    "if len(index>3):\n",
    "    print(\"NB! Значений более 3х!\")\n",
    "    index = index[index_vec]\n",
    "\n",
    "print(\"Топ-3 самых продаваемых\")\n",
    "for i in range(len(index)):\n",
    "    print(data_group_id[i,0])\n",
    "\n"
   ]
  },
  {
   "cell_type": "markdown",
   "metadata": {
    "id": "7Qdw9m2FRpId"
   },
   "source": [
    "**8. Медианная цена проданных товаров**\n",
    "\n",
    "Выведите медианную цену всех проданных товароов"
   ]
  },
  {
   "cell_type": "code",
   "execution_count": 23,
   "metadata": {
    "id": "-9qBKZ-PR1_m"
   },
   "outputs": [
    {
     "name": "stdout",
     "output_type": "stream",
     "text": [
      "Медианная цена всех проданных товаров: 276.29\n"
     ]
    }
   ],
   "source": [
    "# ваш код здесь\n",
    "print(f'Медианная цена всех проданных товаров: {np.round(np.median(data[:,2]),2)}')\n"
   ]
  }
 ],
 "metadata": {
  "colab": {
   "provenance": []
  },
  "kernelspec": {
   "display_name": "Python 3",
   "language": "python",
   "name": "python3"
  },
  "language_info": {
   "codemirror_mode": {
    "name": "ipython",
    "version": 3
   },
   "file_extension": ".py",
   "mimetype": "text/x-python",
   "name": "python",
   "nbconvert_exporter": "python",
   "pygments_lexer": "ipython3",
   "version": "3.9.6"
  }
 },
 "nbformat": 4,
 "nbformat_minor": 4
}
