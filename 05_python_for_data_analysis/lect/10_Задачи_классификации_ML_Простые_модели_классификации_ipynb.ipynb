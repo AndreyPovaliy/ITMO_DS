{
  "cells": [
    {
      "cell_type": "code",
      "execution_count": 3,
      "metadata": {
        "id": "OcOArJ8PrxfH"
      },
      "outputs": [],
      "source": [
        "import pandas as pd\n",
        "import numpy as np\n",
        "import matplotlib.pyplot as plt\n",
        "import seaborn as sns\n",
        "from sklearn.model_selection import train_test_split, cross_val_score\n",
        "\n",
        "from imblearn.over_sampling import SMOTE\n",
        "from imblearn.under_sampling import TomekLinks\n",
        "\n",
        "from sklearn.neighbors import KNeighborsClassifier\n",
        "from sklearn.metrics import accuracy_score, confusion_matrix, classification_report, f1_score, precision_score, recall_score\n",
        "from sklearn.preprocessing import MinMaxScaler, StandardScaler\n",
        "from sklearn.model_selection import GridSearchCV\n",
        "from sklearn.linear_model import LogisticRegression\n",
        "from sklearn.tree import DecisionTreeClassifier, plot_tree\n",
        "from sklearn import datasets\n",
        "\n"
      ]
    },
    {
      "cell_type": "markdown",
      "metadata": {
        "id": "wBzFhDqIMcpz"
      },
      "source": [
        "# **Пример классификации на примере датасета Титаник**"
      ]
    },
    {
      "cell_type": "code",
      "execution_count": null,
      "metadata": {
        "colab": {
          "base_uri": "https://localhost:8080/",
          "height": 204
        },
        "id": "Pw3lMmLPMvxP",
        "outputId": "c36ef5ff-9ced-407f-db63-44f7131a40d7"
      },
      "outputs": [
        {
          "data": {
            "application/vnd.google.colaboratory.intrinsic+json": {
              "summary": "{\n  \"name\": \"df\",\n  \"rows\": 891,\n  \"fields\": [\n    {\n      \"column\": \"PassengerId\",\n      \"properties\": {\n        \"dtype\": \"number\",\n        \"std\": 257,\n        \"min\": 1,\n        \"max\": 891,\n        \"num_unique_values\": 891,\n        \"samples\": [\n          710,\n          440,\n          841\n        ],\n        \"semantic_type\": \"\",\n        \"description\": \"\"\n      }\n    },\n    {\n      \"column\": \"Survived\",\n      \"properties\": {\n        \"dtype\": \"number\",\n        \"std\": 0,\n        \"min\": 0,\n        \"max\": 1,\n        \"num_unique_values\": 2,\n        \"samples\": [\n          1,\n          0\n        ],\n        \"semantic_type\": \"\",\n        \"description\": \"\"\n      }\n    },\n    {\n      \"column\": \"Pclass\",\n      \"properties\": {\n        \"dtype\": \"number\",\n        \"std\": 0,\n        \"min\": 1,\n        \"max\": 3,\n        \"num_unique_values\": 3,\n        \"samples\": [\n          3,\n          1\n        ],\n        \"semantic_type\": \"\",\n        \"description\": \"\"\n      }\n    },\n    {\n      \"column\": \"Name\",\n      \"properties\": {\n        \"dtype\": \"string\",\n        \"num_unique_values\": 891,\n        \"samples\": [\n          \"Moubarek, Master. Halim Gonios (\\\"William George\\\")\",\n          \"Kvillner, Mr. Johan Henrik Johannesson\"\n        ],\n        \"semantic_type\": \"\",\n        \"description\": \"\"\n      }\n    },\n    {\n      \"column\": \"Sex\",\n      \"properties\": {\n        \"dtype\": \"category\",\n        \"num_unique_values\": 2,\n        \"samples\": [\n          \"female\",\n          \"male\"\n        ],\n        \"semantic_type\": \"\",\n        \"description\": \"\"\n      }\n    },\n    {\n      \"column\": \"Age\",\n      \"properties\": {\n        \"dtype\": \"number\",\n        \"std\": 14.526497332334044,\n        \"min\": 0.42,\n        \"max\": 80.0,\n        \"num_unique_values\": 88,\n        \"samples\": [\n          0.75,\n          22.0\n        ],\n        \"semantic_type\": \"\",\n        \"description\": \"\"\n      }\n    },\n    {\n      \"column\": \"SibSp\",\n      \"properties\": {\n        \"dtype\": \"number\",\n        \"std\": 1,\n        \"min\": 0,\n        \"max\": 8,\n        \"num_unique_values\": 7,\n        \"samples\": [\n          1,\n          0\n        ],\n        \"semantic_type\": \"\",\n        \"description\": \"\"\n      }\n    },\n    {\n      \"column\": \"Parch\",\n      \"properties\": {\n        \"dtype\": \"number\",\n        \"std\": 0,\n        \"min\": 0,\n        \"max\": 6,\n        \"num_unique_values\": 7,\n        \"samples\": [\n          0,\n          1\n        ],\n        \"semantic_type\": \"\",\n        \"description\": \"\"\n      }\n    },\n    {\n      \"column\": \"Ticket\",\n      \"properties\": {\n        \"dtype\": \"string\",\n        \"num_unique_values\": 681,\n        \"samples\": [\n          \"11774\",\n          \"248740\"\n        ],\n        \"semantic_type\": \"\",\n        \"description\": \"\"\n      }\n    },\n    {\n      \"column\": \"Fare\",\n      \"properties\": {\n        \"dtype\": \"number\",\n        \"std\": 49.693428597180905,\n        \"min\": 0.0,\n        \"max\": 512.3292,\n        \"num_unique_values\": 248,\n        \"samples\": [\n          11.2417,\n          51.8625\n        ],\n        \"semantic_type\": \"\",\n        \"description\": \"\"\n      }\n    },\n    {\n      \"column\": \"Cabin\",\n      \"properties\": {\n        \"dtype\": \"category\",\n        \"num_unique_values\": 147,\n        \"samples\": [\n          \"D45\",\n          \"B49\"\n        ],\n        \"semantic_type\": \"\",\n        \"description\": \"\"\n      }\n    },\n    {\n      \"column\": \"Embarked\",\n      \"properties\": {\n        \"dtype\": \"category\",\n        \"num_unique_values\": 3,\n        \"samples\": [\n          \"S\",\n          \"C\"\n        ],\n        \"semantic_type\": \"\",\n        \"description\": \"\"\n      }\n    }\n  ]\n}",
              "type": "dataframe",
              "variable_name": "df"
            },
            "text/html": [
              "\n",
              "  <div id=\"df-8d66a3c8-6722-41b3-9f30-97db34f0419d\" class=\"colab-df-container\">\n",
              "    <div>\n",
              "<style scoped>\n",
              "    .dataframe tbody tr th:only-of-type {\n",
              "        vertical-align: middle;\n",
              "    }\n",
              "\n",
              "    .dataframe tbody tr th {\n",
              "        vertical-align: top;\n",
              "    }\n",
              "\n",
              "    .dataframe thead th {\n",
              "        text-align: right;\n",
              "    }\n",
              "</style>\n",
              "<table border=\"1\" class=\"dataframe\">\n",
              "  <thead>\n",
              "    <tr style=\"text-align: right;\">\n",
              "      <th></th>\n",
              "      <th>PassengerId</th>\n",
              "      <th>Survived</th>\n",
              "      <th>Pclass</th>\n",
              "      <th>Name</th>\n",
              "      <th>Sex</th>\n",
              "      <th>Age</th>\n",
              "      <th>SibSp</th>\n",
              "      <th>Parch</th>\n",
              "      <th>Ticket</th>\n",
              "      <th>Fare</th>\n",
              "      <th>Cabin</th>\n",
              "      <th>Embarked</th>\n",
              "    </tr>\n",
              "  </thead>\n",
              "  <tbody>\n",
              "    <tr>\n",
              "      <th>0</th>\n",
              "      <td>1</td>\n",
              "      <td>0</td>\n",
              "      <td>3</td>\n",
              "      <td>Braund, Mr. Owen Harris</td>\n",
              "      <td>male</td>\n",
              "      <td>22.0</td>\n",
              "      <td>1</td>\n",
              "      <td>0</td>\n",
              "      <td>A/5 21171</td>\n",
              "      <td>7.2500</td>\n",
              "      <td>NaN</td>\n",
              "      <td>S</td>\n",
              "    </tr>\n",
              "    <tr>\n",
              "      <th>1</th>\n",
              "      <td>2</td>\n",
              "      <td>1</td>\n",
              "      <td>1</td>\n",
              "      <td>Cumings, Mrs. John Bradley (Florence Briggs Th...</td>\n",
              "      <td>female</td>\n",
              "      <td>38.0</td>\n",
              "      <td>1</td>\n",
              "      <td>0</td>\n",
              "      <td>PC 17599</td>\n",
              "      <td>71.2833</td>\n",
              "      <td>C85</td>\n",
              "      <td>C</td>\n",
              "    </tr>\n",
              "    <tr>\n",
              "      <th>2</th>\n",
              "      <td>3</td>\n",
              "      <td>1</td>\n",
              "      <td>3</td>\n",
              "      <td>Heikkinen, Miss. Laina</td>\n",
              "      <td>female</td>\n",
              "      <td>26.0</td>\n",
              "      <td>0</td>\n",
              "      <td>0</td>\n",
              "      <td>STON/O2. 3101282</td>\n",
              "      <td>7.9250</td>\n",
              "      <td>NaN</td>\n",
              "      <td>S</td>\n",
              "    </tr>\n",
              "    <tr>\n",
              "      <th>3</th>\n",
              "      <td>4</td>\n",
              "      <td>1</td>\n",
              "      <td>1</td>\n",
              "      <td>Futrelle, Mrs. Jacques Heath (Lily May Peel)</td>\n",
              "      <td>female</td>\n",
              "      <td>35.0</td>\n",
              "      <td>1</td>\n",
              "      <td>0</td>\n",
              "      <td>113803</td>\n",
              "      <td>53.1000</td>\n",
              "      <td>C123</td>\n",
              "      <td>S</td>\n",
              "    </tr>\n",
              "    <tr>\n",
              "      <th>4</th>\n",
              "      <td>5</td>\n",
              "      <td>0</td>\n",
              "      <td>3</td>\n",
              "      <td>Allen, Mr. William Henry</td>\n",
              "      <td>male</td>\n",
              "      <td>35.0</td>\n",
              "      <td>0</td>\n",
              "      <td>0</td>\n",
              "      <td>373450</td>\n",
              "      <td>8.0500</td>\n",
              "      <td>NaN</td>\n",
              "      <td>S</td>\n",
              "    </tr>\n",
              "  </tbody>\n",
              "</table>\n",
              "</div>\n",
              "    <div class=\"colab-df-buttons\">\n",
              "\n",
              "  <div class=\"colab-df-container\">\n",
              "    <button class=\"colab-df-convert\" onclick=\"convertToInteractive('df-8d66a3c8-6722-41b3-9f30-97db34f0419d')\"\n",
              "            title=\"Convert this dataframe to an interactive table.\"\n",
              "            style=\"display:none;\">\n",
              "\n",
              "  <svg xmlns=\"http://www.w3.org/2000/svg\" height=\"24px\" viewBox=\"0 -960 960 960\">\n",
              "    <path d=\"M120-120v-720h720v720H120Zm60-500h600v-160H180v160Zm220 220h160v-160H400v160Zm0 220h160v-160H400v160ZM180-400h160v-160H180v160Zm440 0h160v-160H620v160ZM180-180h160v-160H180v160Zm440 0h160v-160H620v160Z\"/>\n",
              "  </svg>\n",
              "    </button>\n",
              "\n",
              "  <style>\n",
              "    .colab-df-container {\n",
              "      display:flex;\n",
              "      gap: 12px;\n",
              "    }\n",
              "\n",
              "    .colab-df-convert {\n",
              "      background-color: #E8F0FE;\n",
              "      border: none;\n",
              "      border-radius: 50%;\n",
              "      cursor: pointer;\n",
              "      display: none;\n",
              "      fill: #1967D2;\n",
              "      height: 32px;\n",
              "      padding: 0 0 0 0;\n",
              "      width: 32px;\n",
              "    }\n",
              "\n",
              "    .colab-df-convert:hover {\n",
              "      background-color: #E2EBFA;\n",
              "      box-shadow: 0px 1px 2px rgba(60, 64, 67, 0.3), 0px 1px 3px 1px rgba(60, 64, 67, 0.15);\n",
              "      fill: #174EA6;\n",
              "    }\n",
              "\n",
              "    .colab-df-buttons div {\n",
              "      margin-bottom: 4px;\n",
              "    }\n",
              "\n",
              "    [theme=dark] .colab-df-convert {\n",
              "      background-color: #3B4455;\n",
              "      fill: #D2E3FC;\n",
              "    }\n",
              "\n",
              "    [theme=dark] .colab-df-convert:hover {\n",
              "      background-color: #434B5C;\n",
              "      box-shadow: 0px 1px 3px 1px rgba(0, 0, 0, 0.15);\n",
              "      filter: drop-shadow(0px 1px 2px rgba(0, 0, 0, 0.3));\n",
              "      fill: #FFFFFF;\n",
              "    }\n",
              "  </style>\n",
              "\n",
              "    <script>\n",
              "      const buttonEl =\n",
              "        document.querySelector('#df-8d66a3c8-6722-41b3-9f30-97db34f0419d button.colab-df-convert');\n",
              "      buttonEl.style.display =\n",
              "        google.colab.kernel.accessAllowed ? 'block' : 'none';\n",
              "\n",
              "      async function convertToInteractive(key) {\n",
              "        const element = document.querySelector('#df-8d66a3c8-6722-41b3-9f30-97db34f0419d');\n",
              "        const dataTable =\n",
              "          await google.colab.kernel.invokeFunction('convertToInteractive',\n",
              "                                                    [key], {});\n",
              "        if (!dataTable) return;\n",
              "\n",
              "        const docLinkHtml = 'Like what you see? Visit the ' +\n",
              "          '<a target=\"_blank\" href=https://colab.research.google.com/notebooks/data_table.ipynb>data table notebook</a>'\n",
              "          + ' to learn more about interactive tables.';\n",
              "        element.innerHTML = '';\n",
              "        dataTable['output_type'] = 'display_data';\n",
              "        await google.colab.output.renderOutput(dataTable, element);\n",
              "        const docLink = document.createElement('div');\n",
              "        docLink.innerHTML = docLinkHtml;\n",
              "        element.appendChild(docLink);\n",
              "      }\n",
              "    </script>\n",
              "  </div>\n",
              "\n",
              "\n",
              "<div id=\"df-07e4452a-1a6c-4687-aec6-ffc52f4e65de\">\n",
              "  <button class=\"colab-df-quickchart\" onclick=\"quickchart('df-07e4452a-1a6c-4687-aec6-ffc52f4e65de')\"\n",
              "            title=\"Suggest charts\"\n",
              "            style=\"display:none;\">\n",
              "\n",
              "<svg xmlns=\"http://www.w3.org/2000/svg\" height=\"24px\"viewBox=\"0 0 24 24\"\n",
              "     width=\"24px\">\n",
              "    <g>\n",
              "        <path d=\"M19 3H5c-1.1 0-2 .9-2 2v14c0 1.1.9 2 2 2h14c1.1 0 2-.9 2-2V5c0-1.1-.9-2-2-2zM9 17H7v-7h2v7zm4 0h-2V7h2v10zm4 0h-2v-4h2v4z\"/>\n",
              "    </g>\n",
              "</svg>\n",
              "  </button>\n",
              "\n",
              "<style>\n",
              "  .colab-df-quickchart {\n",
              "      --bg-color: #E8F0FE;\n",
              "      --fill-color: #1967D2;\n",
              "      --hover-bg-color: #E2EBFA;\n",
              "      --hover-fill-color: #174EA6;\n",
              "      --disabled-fill-color: #AAA;\n",
              "      --disabled-bg-color: #DDD;\n",
              "  }\n",
              "\n",
              "  [theme=dark] .colab-df-quickchart {\n",
              "      --bg-color: #3B4455;\n",
              "      --fill-color: #D2E3FC;\n",
              "      --hover-bg-color: #434B5C;\n",
              "      --hover-fill-color: #FFFFFF;\n",
              "      --disabled-bg-color: #3B4455;\n",
              "      --disabled-fill-color: #666;\n",
              "  }\n",
              "\n",
              "  .colab-df-quickchart {\n",
              "    background-color: var(--bg-color);\n",
              "    border: none;\n",
              "    border-radius: 50%;\n",
              "    cursor: pointer;\n",
              "    display: none;\n",
              "    fill: var(--fill-color);\n",
              "    height: 32px;\n",
              "    padding: 0;\n",
              "    width: 32px;\n",
              "  }\n",
              "\n",
              "  .colab-df-quickchart:hover {\n",
              "    background-color: var(--hover-bg-color);\n",
              "    box-shadow: 0 1px 2px rgba(60, 64, 67, 0.3), 0 1px 3px 1px rgba(60, 64, 67, 0.15);\n",
              "    fill: var(--button-hover-fill-color);\n",
              "  }\n",
              "\n",
              "  .colab-df-quickchart-complete:disabled,\n",
              "  .colab-df-quickchart-complete:disabled:hover {\n",
              "    background-color: var(--disabled-bg-color);\n",
              "    fill: var(--disabled-fill-color);\n",
              "    box-shadow: none;\n",
              "  }\n",
              "\n",
              "  .colab-df-spinner {\n",
              "    border: 2px solid var(--fill-color);\n",
              "    border-color: transparent;\n",
              "    border-bottom-color: var(--fill-color);\n",
              "    animation:\n",
              "      spin 1s steps(1) infinite;\n",
              "  }\n",
              "\n",
              "  @keyframes spin {\n",
              "    0% {\n",
              "      border-color: transparent;\n",
              "      border-bottom-color: var(--fill-color);\n",
              "      border-left-color: var(--fill-color);\n",
              "    }\n",
              "    20% {\n",
              "      border-color: transparent;\n",
              "      border-left-color: var(--fill-color);\n",
              "      border-top-color: var(--fill-color);\n",
              "    }\n",
              "    30% {\n",
              "      border-color: transparent;\n",
              "      border-left-color: var(--fill-color);\n",
              "      border-top-color: var(--fill-color);\n",
              "      border-right-color: var(--fill-color);\n",
              "    }\n",
              "    40% {\n",
              "      border-color: transparent;\n",
              "      border-right-color: var(--fill-color);\n",
              "      border-top-color: var(--fill-color);\n",
              "    }\n",
              "    60% {\n",
              "      border-color: transparent;\n",
              "      border-right-color: var(--fill-color);\n",
              "    }\n",
              "    80% {\n",
              "      border-color: transparent;\n",
              "      border-right-color: var(--fill-color);\n",
              "      border-bottom-color: var(--fill-color);\n",
              "    }\n",
              "    90% {\n",
              "      border-color: transparent;\n",
              "      border-bottom-color: var(--fill-color);\n",
              "    }\n",
              "  }\n",
              "</style>\n",
              "\n",
              "  <script>\n",
              "    async function quickchart(key) {\n",
              "      const quickchartButtonEl =\n",
              "        document.querySelector('#' + key + ' button');\n",
              "      quickchartButtonEl.disabled = true;  // To prevent multiple clicks.\n",
              "      quickchartButtonEl.classList.add('colab-df-spinner');\n",
              "      try {\n",
              "        const charts = await google.colab.kernel.invokeFunction(\n",
              "            'suggestCharts', [key], {});\n",
              "      } catch (error) {\n",
              "        console.error('Error during call to suggestCharts:', error);\n",
              "      }\n",
              "      quickchartButtonEl.classList.remove('colab-df-spinner');\n",
              "      quickchartButtonEl.classList.add('colab-df-quickchart-complete');\n",
              "    }\n",
              "    (() => {\n",
              "      let quickchartButtonEl =\n",
              "        document.querySelector('#df-07e4452a-1a6c-4687-aec6-ffc52f4e65de button');\n",
              "      quickchartButtonEl.style.display =\n",
              "        google.colab.kernel.accessAllowed ? 'block' : 'none';\n",
              "    })();\n",
              "  </script>\n",
              "</div>\n",
              "\n",
              "    </div>\n",
              "  </div>\n"
            ],
            "text/plain": [
              "   PassengerId  Survived  Pclass  \\\n",
              "0            1         0       3   \n",
              "1            2         1       1   \n",
              "2            3         1       3   \n",
              "3            4         1       1   \n",
              "4            5         0       3   \n",
              "\n",
              "                                                Name     Sex   Age  SibSp  \\\n",
              "0                            Braund, Mr. Owen Harris    male  22.0      1   \n",
              "1  Cumings, Mrs. John Bradley (Florence Briggs Th...  female  38.0      1   \n",
              "2                             Heikkinen, Miss. Laina  female  26.0      0   \n",
              "3       Futrelle, Mrs. Jacques Heath (Lily May Peel)  female  35.0      1   \n",
              "4                           Allen, Mr. William Henry    male  35.0      0   \n",
              "\n",
              "   Parch            Ticket     Fare Cabin Embarked  \n",
              "0      0         A/5 21171   7.2500   NaN        S  \n",
              "1      0          PC 17599  71.2833   C85        C  \n",
              "2      0  STON/O2. 3101282   7.9250   NaN        S  \n",
              "3      0            113803  53.1000  C123        S  \n",
              "4      0            373450   8.0500   NaN        S  "
            ]
          },
          "execution_count": 210,
          "metadata": {},
          "output_type": "execute_result"
        }
      ],
      "source": [
        "df = pd.read_csv('titanic.csv')\n",
        "df.head()"
      ]
    },
    {
      "cell_type": "markdown",
      "metadata": {
        "id": "WPo1jo-OM5rG"
      },
      "source": [
        "**Уборка в данных + feature engineering**"
      ]
    },
    {
      "cell_type": "code",
      "execution_count": null,
      "metadata": {
        "colab": {
          "base_uri": "https://localhost:8080/",
          "height": 419
        },
        "id": "IOrIOdQquY7-",
        "outputId": "1ff91fc7-294b-4e75-9448-d73b9ae9e9da"
      },
      "outputs": [
        {
          "data": {
            "application/vnd.google.colaboratory.intrinsic+json": {
              "summary": "{\n  \"name\": \"df\",\n  \"rows\": 891,\n  \"fields\": [\n    {\n      \"column\": \"Fare\",\n      \"properties\": {\n        \"dtype\": \"number\",\n        \"std\": 49.693428597180905,\n        \"min\": 0.0,\n        \"max\": 512.3292,\n        \"num_unique_values\": 248,\n        \"samples\": [\n          11.2417,\n          51.8625,\n          7.725\n        ],\n        \"semantic_type\": \"\",\n        \"description\": \"\"\n      }\n    },\n    {\n      \"column\": \"Age\",\n      \"properties\": {\n        \"dtype\": \"number\",\n        \"std\": 13.00257003982093,\n        \"min\": 0.42,\n        \"max\": 80.0,\n        \"num_unique_values\": 88,\n        \"samples\": [\n          0.75,\n          22.0,\n          7.0\n        ],\n        \"semantic_type\": \"\",\n        \"description\": \"\"\n      }\n    },\n    {\n      \"column\": \"Family_Size\",\n      \"properties\": {\n        \"dtype\": \"number\",\n        \"std\": 1,\n        \"min\": 1,\n        \"max\": 11,\n        \"num_unique_values\": 9,\n        \"samples\": [\n          8,\n          1,\n          6\n        ],\n        \"semantic_type\": \"\",\n        \"description\": \"\"\n      }\n    },\n    {\n      \"column\": \"Survived\",\n      \"properties\": {\n        \"dtype\": \"number\",\n        \"std\": 0,\n        \"min\": 0,\n        \"max\": 1,\n        \"num_unique_values\": 2,\n        \"samples\": [\n          1,\n          0\n        ],\n        \"semantic_type\": \"\",\n        \"description\": \"\"\n      }\n    },\n    {\n      \"column\": \"Sex_male\",\n      \"properties\": {\n        \"dtype\": \"number\",\n        \"std\": 0,\n        \"min\": 0,\n        \"max\": 1,\n        \"num_unique_values\": 2,\n        \"samples\": [\n          0,\n          1\n        ],\n        \"semantic_type\": \"\",\n        \"description\": \"\"\n      }\n    },\n    {\n      \"column\": \"Pclass_2\",\n      \"properties\": {\n        \"dtype\": \"number\",\n        \"std\": 0,\n        \"min\": 0,\n        \"max\": 1,\n        \"num_unique_values\": 2,\n        \"samples\": [\n          1,\n          0\n        ],\n        \"semantic_type\": \"\",\n        \"description\": \"\"\n      }\n    },\n    {\n      \"column\": \"Pclass_3\",\n      \"properties\": {\n        \"dtype\": \"number\",\n        \"std\": 0,\n        \"min\": 0,\n        \"max\": 1,\n        \"num_unique_values\": 2,\n        \"samples\": [\n          0,\n          1\n        ],\n        \"semantic_type\": \"\",\n        \"description\": \"\"\n      }\n    }\n  ]\n}",
              "type": "dataframe",
              "variable_name": "df"
            },
            "text/html": [
              "\n",
              "  <div id=\"df-07a6c358-4426-435f-b8fe-1109ccedbb1e\" class=\"colab-df-container\">\n",
              "    <div>\n",
              "<style scoped>\n",
              "    .dataframe tbody tr th:only-of-type {\n",
              "        vertical-align: middle;\n",
              "    }\n",
              "\n",
              "    .dataframe tbody tr th {\n",
              "        vertical-align: top;\n",
              "    }\n",
              "\n",
              "    .dataframe thead th {\n",
              "        text-align: right;\n",
              "    }\n",
              "</style>\n",
              "<table border=\"1\" class=\"dataframe\">\n",
              "  <thead>\n",
              "    <tr style=\"text-align: right;\">\n",
              "      <th></th>\n",
              "      <th>Fare</th>\n",
              "      <th>Age</th>\n",
              "      <th>Family_Size</th>\n",
              "      <th>Survived</th>\n",
              "      <th>Sex_male</th>\n",
              "      <th>Pclass_2</th>\n",
              "      <th>Pclass_3</th>\n",
              "    </tr>\n",
              "  </thead>\n",
              "  <tbody>\n",
              "    <tr>\n",
              "      <th>0</th>\n",
              "      <td>7.2500</td>\n",
              "      <td>22.0</td>\n",
              "      <td>2</td>\n",
              "      <td>0</td>\n",
              "      <td>1</td>\n",
              "      <td>0</td>\n",
              "      <td>1</td>\n",
              "    </tr>\n",
              "    <tr>\n",
              "      <th>1</th>\n",
              "      <td>71.2833</td>\n",
              "      <td>38.0</td>\n",
              "      <td>2</td>\n",
              "      <td>1</td>\n",
              "      <td>0</td>\n",
              "      <td>0</td>\n",
              "      <td>0</td>\n",
              "    </tr>\n",
              "    <tr>\n",
              "      <th>2</th>\n",
              "      <td>7.9250</td>\n",
              "      <td>26.0</td>\n",
              "      <td>1</td>\n",
              "      <td>1</td>\n",
              "      <td>0</td>\n",
              "      <td>0</td>\n",
              "      <td>1</td>\n",
              "    </tr>\n",
              "    <tr>\n",
              "      <th>3</th>\n",
              "      <td>53.1000</td>\n",
              "      <td>35.0</td>\n",
              "      <td>2</td>\n",
              "      <td>1</td>\n",
              "      <td>0</td>\n",
              "      <td>0</td>\n",
              "      <td>0</td>\n",
              "    </tr>\n",
              "    <tr>\n",
              "      <th>4</th>\n",
              "      <td>8.0500</td>\n",
              "      <td>35.0</td>\n",
              "      <td>1</td>\n",
              "      <td>0</td>\n",
              "      <td>1</td>\n",
              "      <td>0</td>\n",
              "      <td>1</td>\n",
              "    </tr>\n",
              "    <tr>\n",
              "      <th>...</th>\n",
              "      <td>...</td>\n",
              "      <td>...</td>\n",
              "      <td>...</td>\n",
              "      <td>...</td>\n",
              "      <td>...</td>\n",
              "      <td>...</td>\n",
              "      <td>...</td>\n",
              "    </tr>\n",
              "    <tr>\n",
              "      <th>886</th>\n",
              "      <td>13.0000</td>\n",
              "      <td>27.0</td>\n",
              "      <td>1</td>\n",
              "      <td>0</td>\n",
              "      <td>1</td>\n",
              "      <td>1</td>\n",
              "      <td>0</td>\n",
              "    </tr>\n",
              "    <tr>\n",
              "      <th>887</th>\n",
              "      <td>30.0000</td>\n",
              "      <td>19.0</td>\n",
              "      <td>1</td>\n",
              "      <td>1</td>\n",
              "      <td>0</td>\n",
              "      <td>0</td>\n",
              "      <td>0</td>\n",
              "    </tr>\n",
              "    <tr>\n",
              "      <th>888</th>\n",
              "      <td>23.4500</td>\n",
              "      <td>30.0</td>\n",
              "      <td>4</td>\n",
              "      <td>0</td>\n",
              "      <td>0</td>\n",
              "      <td>0</td>\n",
              "      <td>1</td>\n",
              "    </tr>\n",
              "    <tr>\n",
              "      <th>889</th>\n",
              "      <td>30.0000</td>\n",
              "      <td>26.0</td>\n",
              "      <td>1</td>\n",
              "      <td>1</td>\n",
              "      <td>1</td>\n",
              "      <td>0</td>\n",
              "      <td>0</td>\n",
              "    </tr>\n",
              "    <tr>\n",
              "      <th>890</th>\n",
              "      <td>7.7500</td>\n",
              "      <td>32.0</td>\n",
              "      <td>1</td>\n",
              "      <td>0</td>\n",
              "      <td>1</td>\n",
              "      <td>0</td>\n",
              "      <td>1</td>\n",
              "    </tr>\n",
              "  </tbody>\n",
              "</table>\n",
              "<p>891 rows × 7 columns</p>\n",
              "</div>\n",
              "    <div class=\"colab-df-buttons\">\n",
              "\n",
              "  <div class=\"colab-df-container\">\n",
              "    <button class=\"colab-df-convert\" onclick=\"convertToInteractive('df-07a6c358-4426-435f-b8fe-1109ccedbb1e')\"\n",
              "            title=\"Convert this dataframe to an interactive table.\"\n",
              "            style=\"display:none;\">\n",
              "\n",
              "  <svg xmlns=\"http://www.w3.org/2000/svg\" height=\"24px\" viewBox=\"0 -960 960 960\">\n",
              "    <path d=\"M120-120v-720h720v720H120Zm60-500h600v-160H180v160Zm220 220h160v-160H400v160Zm0 220h160v-160H400v160ZM180-400h160v-160H180v160Zm440 0h160v-160H620v160ZM180-180h160v-160H180v160Zm440 0h160v-160H620v160Z\"/>\n",
              "  </svg>\n",
              "    </button>\n",
              "\n",
              "  <style>\n",
              "    .colab-df-container {\n",
              "      display:flex;\n",
              "      gap: 12px;\n",
              "    }\n",
              "\n",
              "    .colab-df-convert {\n",
              "      background-color: #E8F0FE;\n",
              "      border: none;\n",
              "      border-radius: 50%;\n",
              "      cursor: pointer;\n",
              "      display: none;\n",
              "      fill: #1967D2;\n",
              "      height: 32px;\n",
              "      padding: 0 0 0 0;\n",
              "      width: 32px;\n",
              "    }\n",
              "\n",
              "    .colab-df-convert:hover {\n",
              "      background-color: #E2EBFA;\n",
              "      box-shadow: 0px 1px 2px rgba(60, 64, 67, 0.3), 0px 1px 3px 1px rgba(60, 64, 67, 0.15);\n",
              "      fill: #174EA6;\n",
              "    }\n",
              "\n",
              "    .colab-df-buttons div {\n",
              "      margin-bottom: 4px;\n",
              "    }\n",
              "\n",
              "    [theme=dark] .colab-df-convert {\n",
              "      background-color: #3B4455;\n",
              "      fill: #D2E3FC;\n",
              "    }\n",
              "\n",
              "    [theme=dark] .colab-df-convert:hover {\n",
              "      background-color: #434B5C;\n",
              "      box-shadow: 0px 1px 3px 1px rgba(0, 0, 0, 0.15);\n",
              "      filter: drop-shadow(0px 1px 2px rgba(0, 0, 0, 0.3));\n",
              "      fill: #FFFFFF;\n",
              "    }\n",
              "  </style>\n",
              "\n",
              "    <script>\n",
              "      const buttonEl =\n",
              "        document.querySelector('#df-07a6c358-4426-435f-b8fe-1109ccedbb1e button.colab-df-convert');\n",
              "      buttonEl.style.display =\n",
              "        google.colab.kernel.accessAllowed ? 'block' : 'none';\n",
              "\n",
              "      async function convertToInteractive(key) {\n",
              "        const element = document.querySelector('#df-07a6c358-4426-435f-b8fe-1109ccedbb1e');\n",
              "        const dataTable =\n",
              "          await google.colab.kernel.invokeFunction('convertToInteractive',\n",
              "                                                    [key], {});\n",
              "        if (!dataTable) return;\n",
              "\n",
              "        const docLinkHtml = 'Like what you see? Visit the ' +\n",
              "          '<a target=\"_blank\" href=https://colab.research.google.com/notebooks/data_table.ipynb>data table notebook</a>'\n",
              "          + ' to learn more about interactive tables.';\n",
              "        element.innerHTML = '';\n",
              "        dataTable['output_type'] = 'display_data';\n",
              "        await google.colab.output.renderOutput(dataTable, element);\n",
              "        const docLink = document.createElement('div');\n",
              "        docLink.innerHTML = docLinkHtml;\n",
              "        element.appendChild(docLink);\n",
              "      }\n",
              "    </script>\n",
              "  </div>\n",
              "\n",
              "\n",
              "<div id=\"df-5a0fbbba-af1e-4f26-a80c-a8367c9deb52\">\n",
              "  <button class=\"colab-df-quickchart\" onclick=\"quickchart('df-5a0fbbba-af1e-4f26-a80c-a8367c9deb52')\"\n",
              "            title=\"Suggest charts\"\n",
              "            style=\"display:none;\">\n",
              "\n",
              "<svg xmlns=\"http://www.w3.org/2000/svg\" height=\"24px\"viewBox=\"0 0 24 24\"\n",
              "     width=\"24px\">\n",
              "    <g>\n",
              "        <path d=\"M19 3H5c-1.1 0-2 .9-2 2v14c0 1.1.9 2 2 2h14c1.1 0 2-.9 2-2V5c0-1.1-.9-2-2-2zM9 17H7v-7h2v7zm4 0h-2V7h2v10zm4 0h-2v-4h2v4z\"/>\n",
              "    </g>\n",
              "</svg>\n",
              "  </button>\n",
              "\n",
              "<style>\n",
              "  .colab-df-quickchart {\n",
              "      --bg-color: #E8F0FE;\n",
              "      --fill-color: #1967D2;\n",
              "      --hover-bg-color: #E2EBFA;\n",
              "      --hover-fill-color: #174EA6;\n",
              "      --disabled-fill-color: #AAA;\n",
              "      --disabled-bg-color: #DDD;\n",
              "  }\n",
              "\n",
              "  [theme=dark] .colab-df-quickchart {\n",
              "      --bg-color: #3B4455;\n",
              "      --fill-color: #D2E3FC;\n",
              "      --hover-bg-color: #434B5C;\n",
              "      --hover-fill-color: #FFFFFF;\n",
              "      --disabled-bg-color: #3B4455;\n",
              "      --disabled-fill-color: #666;\n",
              "  }\n",
              "\n",
              "  .colab-df-quickchart {\n",
              "    background-color: var(--bg-color);\n",
              "    border: none;\n",
              "    border-radius: 50%;\n",
              "    cursor: pointer;\n",
              "    display: none;\n",
              "    fill: var(--fill-color);\n",
              "    height: 32px;\n",
              "    padding: 0;\n",
              "    width: 32px;\n",
              "  }\n",
              "\n",
              "  .colab-df-quickchart:hover {\n",
              "    background-color: var(--hover-bg-color);\n",
              "    box-shadow: 0 1px 2px rgba(60, 64, 67, 0.3), 0 1px 3px 1px rgba(60, 64, 67, 0.15);\n",
              "    fill: var(--button-hover-fill-color);\n",
              "  }\n",
              "\n",
              "  .colab-df-quickchart-complete:disabled,\n",
              "  .colab-df-quickchart-complete:disabled:hover {\n",
              "    background-color: var(--disabled-bg-color);\n",
              "    fill: var(--disabled-fill-color);\n",
              "    box-shadow: none;\n",
              "  }\n",
              "\n",
              "  .colab-df-spinner {\n",
              "    border: 2px solid var(--fill-color);\n",
              "    border-color: transparent;\n",
              "    border-bottom-color: var(--fill-color);\n",
              "    animation:\n",
              "      spin 1s steps(1) infinite;\n",
              "  }\n",
              "\n",
              "  @keyframes spin {\n",
              "    0% {\n",
              "      border-color: transparent;\n",
              "      border-bottom-color: var(--fill-color);\n",
              "      border-left-color: var(--fill-color);\n",
              "    }\n",
              "    20% {\n",
              "      border-color: transparent;\n",
              "      border-left-color: var(--fill-color);\n",
              "      border-top-color: var(--fill-color);\n",
              "    }\n",
              "    30% {\n",
              "      border-color: transparent;\n",
              "      border-left-color: var(--fill-color);\n",
              "      border-top-color: var(--fill-color);\n",
              "      border-right-color: var(--fill-color);\n",
              "    }\n",
              "    40% {\n",
              "      border-color: transparent;\n",
              "      border-right-color: var(--fill-color);\n",
              "      border-top-color: var(--fill-color);\n",
              "    }\n",
              "    60% {\n",
              "      border-color: transparent;\n",
              "      border-right-color: var(--fill-color);\n",
              "    }\n",
              "    80% {\n",
              "      border-color: transparent;\n",
              "      border-right-color: var(--fill-color);\n",
              "      border-bottom-color: var(--fill-color);\n",
              "    }\n",
              "    90% {\n",
              "      border-color: transparent;\n",
              "      border-bottom-color: var(--fill-color);\n",
              "    }\n",
              "  }\n",
              "</style>\n",
              "\n",
              "  <script>\n",
              "    async function quickchart(key) {\n",
              "      const quickchartButtonEl =\n",
              "        document.querySelector('#' + key + ' button');\n",
              "      quickchartButtonEl.disabled = true;  // To prevent multiple clicks.\n",
              "      quickchartButtonEl.classList.add('colab-df-spinner');\n",
              "      try {\n",
              "        const charts = await google.colab.kernel.invokeFunction(\n",
              "            'suggestCharts', [key], {});\n",
              "      } catch (error) {\n",
              "        console.error('Error during call to suggestCharts:', error);\n",
              "      }\n",
              "      quickchartButtonEl.classList.remove('colab-df-spinner');\n",
              "      quickchartButtonEl.classList.add('colab-df-quickchart-complete');\n",
              "    }\n",
              "    (() => {\n",
              "      let quickchartButtonEl =\n",
              "        document.querySelector('#df-5a0fbbba-af1e-4f26-a80c-a8367c9deb52 button');\n",
              "      quickchartButtonEl.style.display =\n",
              "        google.colab.kernel.accessAllowed ? 'block' : 'none';\n",
              "    })();\n",
              "  </script>\n",
              "</div>\n",
              "\n",
              "  <div id=\"id_39682116-3147-43d2-a302-bef0ac84a1a7\">\n",
              "    <style>\n",
              "      .colab-df-generate {\n",
              "        background-color: #E8F0FE;\n",
              "        border: none;\n",
              "        border-radius: 50%;\n",
              "        cursor: pointer;\n",
              "        display: none;\n",
              "        fill: #1967D2;\n",
              "        height: 32px;\n",
              "        padding: 0 0 0 0;\n",
              "        width: 32px;\n",
              "      }\n",
              "\n",
              "      .colab-df-generate:hover {\n",
              "        background-color: #E2EBFA;\n",
              "        box-shadow: 0px 1px 2px rgba(60, 64, 67, 0.3), 0px 1px 3px 1px rgba(60, 64, 67, 0.15);\n",
              "        fill: #174EA6;\n",
              "      }\n",
              "\n",
              "      [theme=dark] .colab-df-generate {\n",
              "        background-color: #3B4455;\n",
              "        fill: #D2E3FC;\n",
              "      }\n",
              "\n",
              "      [theme=dark] .colab-df-generate:hover {\n",
              "        background-color: #434B5C;\n",
              "        box-shadow: 0px 1px 3px 1px rgba(0, 0, 0, 0.15);\n",
              "        filter: drop-shadow(0px 1px 2px rgba(0, 0, 0, 0.3));\n",
              "        fill: #FFFFFF;\n",
              "      }\n",
              "    </style>\n",
              "    <button class=\"colab-df-generate\" onclick=\"generateWithVariable('df')\"\n",
              "            title=\"Generate code using this dataframe.\"\n",
              "            style=\"display:none;\">\n",
              "\n",
              "  <svg xmlns=\"http://www.w3.org/2000/svg\" height=\"24px\"viewBox=\"0 0 24 24\"\n",
              "       width=\"24px\">\n",
              "    <path d=\"M7,19H8.4L18.45,9,17,7.55,7,17.6ZM5,21V16.75L18.45,3.32a2,2,0,0,1,2.83,0l1.4,1.43a1.91,1.91,0,0,1,.58,1.4,1.91,1.91,0,0,1-.58,1.4L9.25,21ZM18.45,9,17,7.55Zm-12,3A5.31,5.31,0,0,0,4.9,8.1,5.31,5.31,0,0,0,1,6.5,5.31,5.31,0,0,0,4.9,4.9,5.31,5.31,0,0,0,6.5,1,5.31,5.31,0,0,0,8.1,4.9,5.31,5.31,0,0,0,12,6.5,5.46,5.46,0,0,0,6.5,12Z\"/>\n",
              "  </svg>\n",
              "    </button>\n",
              "    <script>\n",
              "      (() => {\n",
              "      const buttonEl =\n",
              "        document.querySelector('#id_39682116-3147-43d2-a302-bef0ac84a1a7 button.colab-df-generate');\n",
              "      buttonEl.style.display =\n",
              "        google.colab.kernel.accessAllowed ? 'block' : 'none';\n",
              "\n",
              "      buttonEl.onclick = () => {\n",
              "        google.colab.notebook.generateWithVariable('df');\n",
              "      }\n",
              "      })();\n",
              "    </script>\n",
              "  </div>\n",
              "\n",
              "    </div>\n",
              "  </div>\n"
            ],
            "text/plain": [
              "        Fare   Age  Family_Size  Survived  Sex_male  Pclass_2  Pclass_3\n",
              "0     7.2500  22.0            2         0         1         0         1\n",
              "1    71.2833  38.0            2         1         0         0         0\n",
              "2     7.9250  26.0            1         1         0         0         1\n",
              "3    53.1000  35.0            2         1         0         0         0\n",
              "4     8.0500  35.0            1         0         1         0         1\n",
              "..       ...   ...          ...       ...       ...       ...       ...\n",
              "886  13.0000  27.0            1         0         1         1         0\n",
              "887  30.0000  19.0            1         1         0         0         0\n",
              "888  23.4500  30.0            4         0         0         0         1\n",
              "889  30.0000  26.0            1         1         1         0         0\n",
              "890   7.7500  32.0            1         0         1         0         1\n",
              "\n",
              "[891 rows x 7 columns]"
            ]
          },
          "execution_count": 211,
          "metadata": {},
          "output_type": "execute_result"
        }
      ],
      "source": [
        "df['Family_Size'] = df['SibSp'] + df['Parch'] + 1 # создаем новую переменную на основе двух других\n",
        "df = df[['Pclass','Sex','Fare','Age','Family_Size', 'Survived']]\n",
        "\n",
        "df = pd.get_dummies(df, columns=['Sex','Pclass'], dtype='int', drop_first=True) # создаем дамми-переменные для категориальных признаков\n",
        "\n",
        "df['Age'] = df['Age'].fillna(round(df['Age'].mean(), 0))\n",
        "df"
      ]
    },
    {
      "cell_type": "code",
      "execution_count": null,
      "metadata": {
        "colab": {
          "base_uri": "https://localhost:8080/"
        },
        "id": "Alu2_QbTSyAA",
        "outputId": "d4b6192d-45a0-47ea-d6de-f2e641393459"
      },
      "outputs": [
        {
          "data": {
            "text/plain": [
              "Index(['Fare', 'Age', 'Family_Size', 'Sex_male', 'Pclass_2', 'Pclass_3'], dtype='object')"
            ]
          },
          "execution_count": 212,
          "metadata": {},
          "output_type": "execute_result"
        }
      ],
      "source": [
        "features = df.columns\n",
        "features = features.drop('Survived')\n",
        "features"
      ]
    },
    {
      "cell_type": "code",
      "execution_count": null,
      "metadata": {
        "colab": {
          "base_uri": "https://localhost:8080/",
          "height": 449
        },
        "id": "Rb1UBx8lzFDk",
        "outputId": "a9c633cb-8bd5-4305-b353-ed218db10c02"
      },
      "outputs": [
        {
          "data": {
            "image/png": "[encoded data removed]",
            "text/plain": [
              "<Figure size 640x480 with 1 Axes>"
            ]
          },
          "metadata": {},
          "output_type": "display_data"
        }
      ],
      "source": [
        "sns.histplot(df['Survived'])\n",
        "plt.show()"
      ]
    },
    {
      "cell_type": "code",
      "execution_count": null,
      "metadata": {
        "id": "GZXx9u4msEcR"
      },
      "outputs": [],
      "source": [
        "X = df.drop(['Survived'], axis=1)\n",
        "y = df['Survived']\n"
      ]
    },
    {
      "cell_type": "markdown",
      "metadata": {
        "id": "7PKQvKHCOUR0"
      },
      "source": [
        "**Oversampling или undersampling для балансировки**"
      ]
    },
    {
      "cell_type": "code",
      "execution_count": null,
      "metadata": {
        "id": "2qG3NcXjOTSR"
      },
      "outputs": [],
      "source": [
        "X, y = SMOTE().fit_resample(X, y) # оversampling\n",
        "# X, y = TomekLinks().fit_resample(X, y) #undersampling"
      ]
    },
    {
      "cell_type": "code",
      "execution_count": null,
      "metadata": {
        "colab": {
          "base_uri": "https://localhost:8080/",
          "height": 449
        },
        "id": "pkRUspb7O3zA",
        "outputId": "bbc6471f-957a-4226-a8b2-0d02fdb9b74c"
      },
      "outputs": [
        {
          "data": {
            "image/png": "[encoded data removed]",
            "text/plain": [
              "<Figure size 640x480 with 1 Axes>"
            ]
          },
          "metadata": {},
          "output_type": "display_data"
        }
      ],
      "source": [
        "sns.histplot(y)\n",
        "plt.show()"
      ]
    },
    {
      "cell_type": "code",
      "execution_count": null,
      "metadata": {
        "id": "rNpO27sGNhPp"
      },
      "outputs": [],
      "source": [
        "scaler = StandardScaler()\n",
        "X = scaler.fit_transform(X)"
      ]
    },
    {
      "cell_type": "markdown",
      "metadata": {
        "id": "i3PTpELVPZAQ"
      },
      "source": [
        "**Включаем статификацию  `stratify` по таргет переменной `y`**"
      ]
    },
    {
      "cell_type": "code",
      "execution_count": null,
      "metadata": {
        "id": "TuT-udKCNi6s"
      },
      "outputs": [],
      "source": [
        "X_train, X_test, y_train, y_test = train_test_split(X, y, test_size = 0.2, random_state=1, stratify=y)"
      ]
    },
    {
      "cell_type": "markdown",
      "metadata": {
        "id": "6IJ3FumjUMTm"
      },
      "source": [
        "## Алгоритм K-Nearest Neighbors (KNN) в классификации\n",
        "\n",
        "KNN (k-ближайших соседей) – это простой и интуитивно понятный алгоритм машинного обучения, который не строит явной модели, а делает прогнозы, основываясь на сходстве объектов.\n",
        "\n",
        "⸻\n",
        "\n",
        "**Как работает KNN?**\n",
        "\n",
        "\t1.\tВыбираем число соседей k.\n",
        "\t2.\tДля нового объекта находим k ближайших точек из обучающей выборки (по расстоянию).\n",
        "\t3.\tОпределяем класс:\n",
        "\t    •\tМажоритарное голосование – объект получает класс, который встречается чаще среди k соседей.\n",
        "\t    •\tВзвешенное голосование – соседи с меньшим расстоянием имеют больший вес.\n",
        "\t4.\tКлассифицируем новый объект."
      ]
    },
    {
      "cell_type": "markdown",
      "metadata": {
        "id": "rPwrPTmWUm1o"
      },
      "source": [
        "**Когда использовать KNN?**\n",
        "\n",
        "✅ Если данных немного.\n",
        "\n",
        "✅ Если важна интерпретируемость (понятно, почему так классифицируется).\n",
        "\n",
        "\n",
        "---\n",
        "**❌ Минусы:**\n",
        "\n",
        "❌ Медленный на больших данных (нужно хранить все примеры).\n",
        "\n",
        "❌ Чувствителен к выборам k и шуму.\n",
        "\n",
        "❌ Плохо работает с высокомерными данными (проклятие размерности)."
      ]
    },
    {
      "cell_type": "markdown",
      "metadata": {
        "id": "M1hy3Iq9Pxs_"
      },
      "source": [
        "**Обучим модель на кросс-валидации**"
      ]
    },
    {
      "cell_type": "code",
      "execution_count": null,
      "metadata": {
        "colab": {
          "base_uri": "https://localhost:8080/"
        },
        "id": "DE7wNxGrstjQ",
        "outputId": "81fdb9bd-e3f4-46e8-9780-a7871636c81d"
      },
      "outputs": [
        {
          "name": "stdout",
          "output_type": "stream",
          "text": [
            "Best k=9 ; accuracy:0.842\n"
          ]
        }
      ],
      "source": [
        "k_values = range(1,21)\n",
        "mean_score = []\n",
        "for k in k_values:\n",
        "    knn = KNeighborsClassifier(n_neighbors=k)\n",
        "    scores = cross_val_score(knn, X_train, y_train, cv=20, scoring='accuracy')\n",
        "    mean_score.append(scores.mean())\n",
        "\n",
        "best_k = k_values[np.argmax(mean_score)]\n",
        "print(f'Best k={best_k} ; accuracy:{max(mean_score):.3f}')"
      ]
    },
    {
      "cell_type": "markdown",
      "metadata": {
        "id": "VnKg9KZkQcs0"
      },
      "source": [
        "**Чтобы оценит стабильность модели построим boxplot**"
      ]
    },
    {
      "cell_type": "code",
      "execution_count": null,
      "metadata": {
        "colab": {
          "base_uri": "https://localhost:8080/",
          "height": 412
        },
        "id": "FmlQmNUwQOQ3",
        "outputId": "874698f7-27f0-4902-e671-44210514ea9d"
      },
      "outputs": [
        {
          "data": {
            "image/png": "[encoded data removed]",
            "text/plain": [
              "<Figure size 640x480 with 1 Axes>"
            ]
          },
          "metadata": {},
          "output_type": "display_data"
        }
      ],
      "source": [
        "sns.boxplot(mean_score)\n",
        "plt.show()"
      ]
    },
    {
      "cell_type": "code",
      "execution_count": null,
      "metadata": {
        "colab": {
          "base_uri": "https://localhost:8080/",
          "height": 449
        },
        "id": "cdXPgu9Yui4u",
        "outputId": "3275ee0a-0459-44aa-e683-3797e927d82c"
      },
      "outputs": [
        {
          "data": {
            "image/png": "[encoded data removed]",
            "text/plain": [
              "<Figure size 640x480 with 1 Axes>"
            ]
          },
          "metadata": {},
          "output_type": "display_data"
        }
      ],
      "source": [
        "plt.plot(k_values, mean_score)\n",
        "plt.xlabel('k')\n",
        "plt.ylabel('accuracy')\n",
        "plt.xticks(k_values)\n",
        "plt.grid()\n",
        "plt.show()"
      ]
    },
    {
      "cell_type": "markdown",
      "metadata": {
        "id": "3he87Q4hTXgT"
      },
      "source": [
        "**GridSearch Cross-Validation (поиск лучших параметров по сетке)**"
      ]
    },
    {
      "cell_type": "code",
      "execution_count": null,
      "metadata": {
        "id": "7_BHvwQhu-ny"
      },
      "outputs": [],
      "source": [
        "knn = KNeighborsClassifier(n_neighbors=4)\n",
        "# knn = KNeighborsClassifier()\n",
        "\n",
        "# params = {\n",
        "#     'n_neighbors': range(1,21),\n",
        "#     'metric': ['euclidean', 'manhattan']\n",
        "# }\n",
        "\n",
        "# gs = GridSearchCV(knn, params, cv=20, scoring='accuracy')\n",
        "# gs.fit(X_train, y_train)\n",
        "# print(gs.best_params_)\n",
        "\n",
        "knn.fit(X_train, y_train)\n",
        "y_pred_train = knn.predict(X_train)\n",
        "y_pred_test =  knn.predict(X_test)\n",
        "\n",
        "\n",
        "# y_pred_train = gs.predict(X_train)\n",
        "# y_pred_test =  gs.predict(X_test)\n",
        "\n"
      ]
    },
    {
      "cell_type": "markdown",
      "metadata": {
        "id": "BAMB_dwyKC1x"
      },
      "source": [
        "## Метрики бинарной классификации"
      ]
    },
    {
      "cell_type": "markdown",
      "metadata": {
        "id": "3jSDyGA5J-PO"
      },
      "source": [
        "Метрики, основанные на матрице ошибок (confusion matrix)\n",
        "\n",
        "**Матрица ошибок состоит из:**\n",
        "\n",
        "$TP(True Positive)$ – верно предсказанные положительные примеры\n",
        "\n",
        "$TN (True Negative)$ – верно предсказанные отрицательные примеры\n",
        "\n",
        "$FP (False Positive)$ – ложноположительные (ошибочно предсказанные как положительные)\n",
        "\n",
        "$FN (False Negative)$ - ложноотрицательные (ошибочно предсказанные как отрицательные)\n",
        "\n",
        "**Accuracy (Точность классификации)**\n",
        "\n",
        "$$Accuracy = \\frac{TP + TN}{TP + TN + FP + FN}$$\n",
        "\n",
        "\t•\tПодходит, если классы сбалансированы\n",
        "\t•\tНе подходит для несбалансированных данных\n",
        "\n",
        "**Precision (Точность, позитивная предсказательная ценность)**\n",
        "\n",
        "$$Precision = \\frac{TP}{TP + FP}$$\n",
        "\n",
        "\t•\tДоля верно предсказанных положительных примеров среди всех предсказанных как положительные\n",
        "\t•\tВажна, если FP (ложные срабатывания) критичны (например, при диагностике рака)\n",
        "\n",
        "**Recall (Полнота, чувствительность, TPR)**\n",
        "\n",
        "$$Recall = \\frac{TP}{TP + FN}$$\n",
        "\n",
        "\t•\tДоля верно предсказанных положительных примеров среди всех фактических положительных\n",
        "\t•\tВажна, если FN критичны (например, пропуск заболевания)\n",
        "\n",
        "$F1-score$ (Среднее гармоническое $Precision$ и $Recall$)\n",
        "\n",
        "$$F1 = 2 \\times \\frac{Precision \\times Recall}{Precision + Recall}$$\n",
        "\n",
        "\t•\tУчитывает и Precision, и Recall\n",
        "\t•\tХороша для несбалансированных данных\n"
      ]
    },
    {
      "cell_type": "markdown",
      "metadata": {
        "id": "jlPWFUT1LzR4"
      },
      "source": [
        "Код:"
      ]
    },
    {
      "cell_type": "code",
      "execution_count": null,
      "metadata": {
        "colab": {
          "base_uri": "https://localhost:8080/"
        },
        "id": "jE5EpwgSLtNV",
        "outputId": "14718d50-55eb-47f6-e43e-a623bec3119b"
      },
      "outputs": [
        {
          "name": "stdout",
          "output_type": "stream",
          "text": [
            "accuracy train: 0.884\n",
            "accuracy test: 0.868\n",
            "f1 train: 0.876\n",
            "f1 test: 0.864\n",
            "precision train: 0.940\n",
            "precision test: 0.893\n",
            "recall train: 0.820\n",
            "recall test: 0.836\n"
          ]
        }
      ],
      "source": [
        "accuracy_train = accuracy_score(y_train, y_pred_train)\n",
        "accuracy_test = accuracy_score(y_test, y_pred_test)\n",
        "f1_train = f1_score(y_train, y_pred_train)\n",
        "f1_test = f1_score(y_test, y_pred_test)\n",
        "precision_train = precision_score(y_train, y_pred_train)\n",
        "precision_test = precision_score(y_test, y_pred_test)\n",
        "recall_train = recall_score(y_train, y_pred_train)\n",
        "recall_test = recall_score(y_test, y_pred_test)\n",
        "\n",
        "print(f'accuracy train: {accuracy_train:.3f}')\n",
        "print(f'accuracy test: {accuracy_test:.3f}')\n",
        "print(f'f1 train: {f1_train:.3f}')\n",
        "print(f'f1 test: {f1_test:.3f}')\n",
        "print(f'precision train: {precision_train:.3f}')\n",
        "print(f'precision test: {precision_test:.3f}')\n",
        "print(f'recall train: {recall_train:.3f}')\n",
        "print(f'recall test: {recall_test:.3f}')"
      ]
    },
    {
      "cell_type": "markdown",
      "metadata": {
        "id": "eoqUAuw3L9O3"
      },
      "source": [
        "**Отчет классификации**"
      ]
    },
    {
      "cell_type": "code",
      "execution_count": null,
      "metadata": {
        "colab": {
          "base_uri": "https://localhost:8080/"
        },
        "id": "bcXZiA080Zsb",
        "outputId": "fc16a5d6-b2d7-45d8-b4f7-c3a7a8e507c1"
      },
      "outputs": [
        {
          "name": "stdout",
          "output_type": "stream",
          "text": [
            "              precision    recall  f1-score   support\n",
            "\n",
            "           0       0.85      0.90      0.87       110\n",
            "           1       0.89      0.84      0.86       110\n",
            "\n",
            "    accuracy                           0.87       220\n",
            "   macro avg       0.87      0.87      0.87       220\n",
            "weighted avg       0.87      0.87      0.87       220\n",
            "\n"
          ]
        }
      ],
      "source": [
        "report = classification_report(y_test, y_pred_test)\n",
        "print(report)"
      ]
    },
    {
      "cell_type": "code",
      "execution_count": null,
      "metadata": {
        "colab": {
          "base_uri": "https://localhost:8080/",
          "height": 451
        },
        "id": "0oTlAwP00rBQ",
        "outputId": "bea9b5c7-b6e8-499d-f875-ebc29806aed7"
      },
      "outputs": [
        {
          "data": {
            "image/png": "[encoded data removed]",
            "text/plain": [
              "<Figure size 800x500 with 1 Axes>"
            ]
          },
          "metadata": {},
          "output_type": "display_data"
        }
      ],
      "source": [
        "metrics = ['accuracy', 'f1', 'precision', 'recall']\n",
        "scores_train = [accuracy_train, f1_train, precision_train, recall_train]\n",
        "scores_test = [accuracy_test, f1_test, precision_test, recall_test]\n",
        "\n",
        "x = np.arange(len(metrics))\n",
        "\n",
        "plt.figure(figsize=(8,5))\n",
        "width = 0.35\n",
        "plt.bar(x - width/0.2, scores_train, width=width, label='train', color='skyblue')\n",
        "plt.bar(x + width/0.2, scores_test, width=width, label='test', color = 'salmon')\n",
        "\n",
        "plt.xticks(x, metrics)\n",
        "plt.ylabel('score')\n",
        "plt.ylim(0,1)\n",
        "plt.grid()\n",
        "plt.legend()\n",
        "plt.show()"
      ]
    },
    {
      "cell_type": "markdown",
      "metadata": {
        "id": "sW7zUiM-MB2b"
      },
      "source": [
        "**Визуализация матрицы ошибок**"
      ]
    },
    {
      "cell_type": "code",
      "execution_count": null,
      "metadata": {
        "colab": {
          "base_uri": "https://localhost:8080/",
          "height": 430
        },
        "id": "QY1cyY0qwyNB",
        "outputId": "620422a0-aa06-4441-ce27-c152072257ab"
      },
      "outputs": [
        {
          "data": {
            "image/png": "[encoded data removed]",
            "text/plain": [
              "<Figure size 640x480 with 2 Axes>"
            ]
          },
          "metadata": {},
          "output_type": "display_data"
        }
      ],
      "source": [
        "cm = confusion_matrix(y_test, y_pred_test)\n",
        "sns.heatmap(cm, annot=True, cmap='coolwarm')\n",
        "plt.show()"
      ]
    },
    {
      "cell_type": "markdown",
      "metadata": {
        "id": "5ehMXRVJhLK4"
      },
      "source": [
        "# Логистическая регрессия"
      ]
    },
    {
      "cell_type": "markdown",
      "metadata": {
        "id": "LLlYFtvQyOJX"
      },
      "source": [
        "**Логистическая регрессия — это статистический метод, который используется для бинарной классификации, то есть когда нужно предсказать, относится ли объект к одному из двух классов (например, “да” или “нет”, “0” или “1”, “болен” или “здоров”).**\n",
        "\n",
        "\n",
        "###📌 Основная идея:\n",
        "\n",
        "Логистическая регрессия похожа на линейную регрессию, но вместо предсказания непрерывных значений (как, например, в предсказании цен на квартиры), она оценивает вероятность принадлежности к какому-то классу.\n",
        "\n",
        "### Формула логистической регрессии:\n",
        "\n",
        "$$P(Y = 1 | X) = \\frac{1}{1 + e^{-(w_0 + w_1 X_1 + w_2 X_2 + … + w_n X_n)}}$$\n",
        "\n",
        "🔹 $w_0, w_1, …, w_n$ — параметры модели (коэффициенты, которые мы подбираем во время обучения).\n",
        "\n",
        "🔹 $X_1, X_2, …, X_n$ — входные признаки (фичи).\n",
        "\n",
        "🔹 $\\sigma(z) = \\frac{1}{1 + e^{-z}}$ — сигмоидная (логистическая) функция, которая превращает любое число в диапазон $(0,1)$.\n",
        "\n"
      ]
    },
    {
      "cell_type": "markdown",
      "metadata": {
        "id": "lHjxBL-QzGKL"
      },
      "source": [
        "📊 Как она работает?\n",
        "\n",
        "\t1.\tЛинейная комбинация входных признаков вычисляется как линейная регрессия z\n",
        "\t2.\tПрименяется сигмоидная функция, чтобы преобразовать z  в вероятность от 0 до 1.\n",
        "\t3.\tПороговое значение: если вероятность выше 0.5, относим объект к классу 1, иначе — к классу 0."
      ]
    },
    {
      "cell_type": "code",
      "execution_count": null,
      "metadata": {
        "id": "m-PYH586g7gI"
      },
      "outputs": [],
      "source": [
        "log_reg = LogisticRegression(penalty='l2', C=0.9, solver='saga', random_state = 1)\n",
        "log_reg.fit(X_train, y_train)\n",
        "\n",
        "y_pred_train = log_reg.predict(X_train)\n",
        "y_pred_test = log_reg.predict(X_test)\n",
        "\n",
        "\n",
        "accuracy_train = accuracy_score(y_train, y_pred_train)\n",
        "accuracy_test = accuracy_score(y_test, y_pred_test)\n",
        "f1_train = f1_score(y_train, y_pred_train)\n",
        "f1_test = f1_score(y_test, y_pred_test)\n",
        "\n"
      ]
    },
    {
      "cell_type": "code",
      "execution_count": null,
      "metadata": {
        "colab": {
          "base_uri": "https://localhost:8080/"
        },
        "id": "VCIP6aLgiWUd",
        "outputId": "102ceace-9c86-4276-8c42-545786d714ae"
      },
      "outputs": [
        {
          "name": "stdout",
          "output_type": "stream",
          "text": [
            "              precision    recall  f1-score   support\n",
            "\n",
            "           0       0.80      0.82      0.81       439\n",
            "           1       0.81      0.79      0.80       439\n",
            "\n",
            "    accuracy                           0.81       878\n",
            "   macro avg       0.81      0.81      0.81       878\n",
            "weighted avg       0.81      0.81      0.81       878\n",
            "\n"
          ]
        }
      ],
      "source": [
        "report_log_reg_train = classification_report(y_train, y_pred_train)\n",
        "print(report_log_reg_train)"
      ]
    },
    {
      "cell_type": "code",
      "execution_count": null,
      "metadata": {
        "colab": {
          "base_uri": "https://localhost:8080/"
        },
        "id": "ncHtVPTviXdZ",
        "outputId": "7907bd11-b280-481a-bab9-494ad909c04b"
      },
      "outputs": [
        {
          "name": "stdout",
          "output_type": "stream",
          "text": [
            "              precision    recall  f1-score   support\n",
            "\n",
            "           0       0.84      0.82      0.83       110\n",
            "           1       0.82      0.85      0.83       110\n",
            "\n",
            "    accuracy                           0.83       220\n",
            "   macro avg       0.83      0.83      0.83       220\n",
            "weighted avg       0.83      0.83      0.83       220\n",
            "\n"
          ]
        }
      ],
      "source": [
        "report_log_reg_test = classification_report(y_test, y_pred_test)\n",
        "print(report_log_reg_test)"
      ]
    },
    {
      "cell_type": "code",
      "execution_count": null,
      "metadata": {
        "colab": {
          "base_uri": "https://localhost:8080/",
          "height": 430
        },
        "id": "VNmEdaTWlWjm",
        "outputId": "b1824ef5-ebea-4c10-b893-b74daa8506dc"
      },
      "outputs": [
        {
          "data": {
            "image/png": "[encoded data removed]",
            "text/plain": [
              "<Figure size 640x480 with 2 Axes>"
            ]
          },
          "metadata": {},
          "output_type": "display_data"
        }
      ],
      "source": [
        "cm_log_reg = confusion_matrix(y_test, y_pred_test)\n",
        "sns.heatmap(cm_log_reg, annot=True, cmap='coolwarm')\n",
        "plt.show()"
      ]
    },
    {
      "cell_type": "code",
      "execution_count": null,
      "metadata": {
        "colab": {
          "base_uri": "https://localhost:8080/"
        },
        "id": "ZUY3aN-9l45v",
        "outputId": "606dafcf-f2fa-45e1-c0d8-d7485aa849d1"
      },
      "outputs": [
        {
          "name": "stdout",
          "output_type": "stream",
          "text": [
            "[[0.1026342  0.8973658 ]\n",
            " [0.24348381 0.75651619]\n",
            " [0.86488165 0.13511835]\n",
            " [0.81423658 0.18576342]\n",
            " [0.24354599 0.75645401]\n",
            " [0.39319126 0.60680874]\n",
            " [0.84774603 0.15225397]\n",
            " [0.79473198 0.20526802]\n",
            " [0.85520049 0.14479951]\n",
            " [0.15435834 0.84564166]\n",
            " [0.11437116 0.88562884]\n",
            " [0.79447081 0.20552919]\n",
            " [0.99151959 0.00848041]\n",
            " [0.84981351 0.15018649]\n",
            " [0.02117061 0.97882939]\n",
            " [0.12830204 0.87169796]\n",
            " [0.5871624  0.4128376 ]\n",
            " [0.18177813 0.81822187]\n",
            " [0.24350566 0.75649434]\n",
            " [0.85510341 0.14489659]\n",
            " [0.7210594  0.2789406 ]\n",
            " [0.17002141 0.82997859]\n",
            " [0.77298147 0.22701853]\n",
            " [0.03861377 0.96138623]\n",
            " [0.03508705 0.96491295]\n",
            " [0.11034394 0.88965606]\n",
            " [0.75403186 0.24596814]\n",
            " [0.36288988 0.63711012]\n",
            " [0.40626443 0.59373557]\n",
            " [0.02172065 0.97827935]\n",
            " [0.85520049 0.14479951]\n",
            " [0.30176898 0.69823102]\n",
            " [0.86084949 0.13915051]\n",
            " [0.7948403  0.2051597 ]\n",
            " [0.91303846 0.08696154]\n",
            " [0.76292183 0.23707817]\n",
            " [0.75303932 0.24696068]\n",
            " [0.0171188  0.9828812 ]\n",
            " [0.90658757 0.09341243]\n",
            " [0.1798072  0.8201928 ]\n",
            " [0.24364227 0.75635773]\n",
            " [0.03123309 0.96876691]\n",
            " [0.85517487 0.14482513]\n",
            " [0.8553689  0.1446311 ]\n",
            " [0.13342662 0.86657338]\n",
            " [0.85526519 0.14473481]\n",
            " [0.03281639 0.96718361]\n",
            " [0.77807404 0.22192596]\n",
            " [0.12192738 0.87807262]\n",
            " [0.40660268 0.59339732]\n",
            " [0.24354002 0.75645998]\n",
            " [0.85510341 0.14489659]\n",
            " [0.68465639 0.31534361]\n",
            " [0.03765154 0.96234846]\n",
            " [0.8135008  0.1864992 ]\n",
            " [0.90617081 0.09382919]\n",
            " [0.09458589 0.90541411]\n",
            " [0.14319244 0.85680756]\n",
            " [0.21238819 0.78761181]\n",
            " [0.81173036 0.18826964]\n",
            " [0.04144166 0.95855834]\n",
            " [0.94040472 0.05959528]\n",
            " [0.85536218 0.14463782]\n",
            " [0.02594014 0.97405986]\n",
            " [0.04889888 0.95110112]\n",
            " [0.30152819 0.69847181]\n",
            " [0.03577937 0.96422063]\n",
            " [0.21545591 0.78454409]\n",
            " [0.80967036 0.19032964]\n",
            " [0.72423628 0.27576372]\n",
            " [0.7210594  0.2789406 ]\n",
            " [0.84926199 0.15073801]\n",
            " [0.37332724 0.62667276]\n",
            " [0.77074642 0.22925358]\n",
            " [0.85269491 0.14730509]\n",
            " [0.83690281 0.16309719]\n",
            " [0.83037499 0.16962501]\n",
            " [0.17120366 0.82879634]\n",
            " [0.02482857 0.97517143]\n",
            " [0.60039397 0.39960603]\n",
            " [0.84608436 0.15391564]\n",
            " [0.79478526 0.20521474]\n",
            " [0.66206938 0.33793062]\n",
            " [0.6912808  0.3087192 ]\n",
            " [0.83031518 0.16968482]\n",
            " [0.87170396 0.12829604]\n",
            " [0.15725623 0.84274377]\n",
            " [0.78647109 0.21352891]\n",
            " [0.03926842 0.96073158]\n",
            " [0.02599679 0.97400321]\n",
            " [0.19285811 0.80714189]\n",
            " [0.39291173 0.60708827]\n",
            " [0.88799609 0.11200391]\n",
            " [0.85537026 0.14462974]\n",
            " [0.86638691 0.13361309]\n",
            " [0.85510341 0.14489659]\n",
            " [0.82228994 0.17771006]\n",
            " [0.16125858 0.83874142]\n",
            " [0.0993506  0.9006494 ]\n",
            " [0.5864112  0.4135888 ]\n",
            " [0.85497119 0.14502881]\n",
            " [0.11034394 0.88965606]\n",
            " [0.87697929 0.12302071]\n",
            " [0.77898062 0.22101938]\n",
            " [0.13701901 0.86298099]\n",
            " [0.79056833 0.20943167]\n",
            " [0.28654549 0.71345451]\n",
            " [0.11985114 0.88014886]\n",
            " [0.02425287 0.97574713]\n",
            " [0.81613901 0.18386099]\n",
            " [0.28416818 0.71583182]\n",
            " [0.88267985 0.11732015]\n",
            " [0.11988043 0.88011957]\n",
            " [0.82597526 0.17402474]\n",
            " [0.24348381 0.75651619]\n",
            " [0.03297469 0.96702531]\n",
            " [0.82664865 0.17335135]\n",
            " [0.37661397 0.62338603]\n",
            " [0.03628976 0.96371024]\n",
            " [0.6573368  0.3426632 ]\n",
            " [0.02410349 0.97589651]\n",
            " [0.01967393 0.98032607]\n",
            " [0.94696286 0.05303714]\n",
            " [0.42574479 0.57425521]\n",
            " [0.40959768 0.59040232]\n",
            " [0.7210594  0.2789406 ]\n",
            " [0.17438694 0.82561306]\n",
            " [0.12730365 0.87269635]\n",
            " [0.24354599 0.75645401]\n",
            " [0.24340163 0.75659837]\n",
            " [0.85508318 0.14491682]\n",
            " [0.01321767 0.98678233]\n",
            " [0.85510341 0.14489659]\n",
            " [0.84316062 0.15683938]\n",
            " [0.24034057 0.75965943]\n",
            " [0.83686714 0.16313286]\n",
            " [0.37355159 0.62644841]\n",
            " [0.91410982 0.08589018]\n",
            " [0.74838542 0.25161458]\n",
            " [0.06780779 0.93219221]\n",
            " [0.16949142 0.83050858]\n",
            " [0.03138535 0.96861465]\n",
            " [0.03765272 0.96234728]\n",
            " [0.14422255 0.85577745]\n",
            " [0.82376586 0.17623414]\n",
            " [0.04275636 0.95724364]\n",
            " [0.88661423 0.11338577]\n",
            " [0.79204104 0.20795896]\n",
            " [0.85305757 0.14694243]\n",
            " [0.07963289 0.92036711]\n",
            " [0.97522414 0.02477586]\n",
            " [0.52415399 0.47584601]\n",
            " [0.24482227 0.75517773]\n",
            " [0.40814062 0.59185938]\n",
            " [0.91567555 0.08432445]\n",
            " [0.06893258 0.93106742]\n",
            " [0.15283276 0.84716724]\n",
            " [0.16208975 0.83791025]\n",
            " [0.13270086 0.86729914]\n",
            " [0.05669973 0.94330027]\n",
            " [0.87023855 0.12976145]\n",
            " [0.8553689  0.1446311 ]\n",
            " [0.04330126 0.95669874]\n",
            " [0.75389859 0.24610141]\n",
            " [0.02658732 0.97341268]\n",
            " [0.1219509  0.8780491 ]\n",
            " [0.01801773 0.98198227]\n",
            " [0.12717283 0.87282717]\n",
            " [0.87595243 0.12404757]\n",
            " [0.13204859 0.86795141]\n",
            " [0.85666432 0.14333568]\n",
            " [0.89689481 0.10310519]\n",
            " [0.88202972 0.11797028]\n",
            " [0.51977936 0.48022064]\n",
            " [0.24788608 0.75211392]\n",
            " [0.85515332 0.14484668]\n",
            " [0.85520049 0.14479951]\n",
            " [0.66242334 0.33757666]\n",
            " [0.27612772 0.72387228]\n",
            " [0.18821706 0.81178294]\n",
            " [0.24355713 0.75644287]\n",
            " [0.39881994 0.60118006]\n",
            " [0.81649131 0.18350869]\n",
            " [0.40922707 0.59077293]\n",
            " [0.1812332  0.8187668 ]\n",
            " [0.64165854 0.35834146]\n",
            " [0.1826013  0.8173987 ]\n",
            " [0.18142711 0.81857289]\n",
            " [0.78742381 0.21257619]\n",
            " [0.91443148 0.08556852]\n",
            " [0.80237224 0.19762776]\n",
            " [0.02187622 0.97812378]\n",
            " [0.83037194 0.16962806]\n",
            " [0.69545022 0.30454978]\n",
            " [0.84316062 0.15683938]\n",
            " [0.12949202 0.87050798]\n",
            " [0.08097625 0.91902375]\n",
            " [0.20023296 0.79976704]\n",
            " [0.35023618 0.64976382]\n",
            " [0.54876401 0.45123599]\n",
            " [0.01321247 0.98678753]\n",
            " [0.03365728 0.96634272]\n",
            " [0.69467962 0.30532038]\n",
            " [0.03024648 0.96975352]\n",
            " [0.39545316 0.60454684]\n",
            " [0.85548874 0.14451126]\n",
            " [0.934072   0.065928  ]\n",
            " [0.0339343  0.9660657 ]\n",
            " [0.40640215 0.59359785]\n",
            " [0.45480889 0.54519111]\n",
            " [0.78707191 0.21292809]\n",
            " [0.24354599 0.75645401]\n",
            " [0.75586045 0.24413955]\n",
            " [0.25110217 0.74889783]\n",
            " [0.86179154 0.13820846]\n",
            " [0.55096642 0.44903358]\n",
            " [0.89590156 0.10409844]\n",
            " [0.61128893 0.38871107]\n",
            " [0.78707191 0.21292809]\n",
            " [0.07291775 0.92708225]]\n"
          ]
        }
      ],
      "source": [
        "# расчитанные вероятности 0 или 1 класса.\n",
        "probabilities = log_reg.predict_proba(X_test)\n",
        "print(probabilities)"
      ]
    },
    {
      "cell_type": "code",
      "execution_count": null,
      "metadata": {
        "colab": {
          "base_uri": "https://localhost:8080/",
          "height": 453
        },
        "id": "FNi7TWZ3mi_Q",
        "outputId": "cda46e02-4f55-491a-ccb2-2d292469791a"
      },
      "outputs": [
        {
          "data": {
            "text/html": [
              "<div>\n",
              "<style scoped>\n",
              "    .dataframe tbody tr th:only-of-type {\n",
              "        vertical-align: middle;\n",
              "    }\n",
              "\n",
              "    .dataframe tbody tr th {\n",
              "        vertical-align: top;\n",
              "    }\n",
              "\n",
              "    .dataframe thead th {\n",
              "        text-align: right;\n",
              "    }\n",
              "</style>\n",
              "<table border=\"1\" class=\"dataframe\">\n",
              "  <thead>\n",
              "    <tr style=\"text-align: right;\">\n",
              "      <th></th>\n",
              "      <th>Survived</th>\n",
              "    </tr>\n",
              "  </thead>\n",
              "  <tbody>\n",
              "    <tr>\n",
              "      <th>902</th>\n",
              "      <td>1</td>\n",
              "    </tr>\n",
              "    <tr>\n",
              "      <th>28</th>\n",
              "      <td>1</td>\n",
              "    </tr>\n",
              "    <tr>\n",
              "      <th>267</th>\n",
              "      <td>1</td>\n",
              "    </tr>\n",
              "    <tr>\n",
              "      <th>288</th>\n",
              "      <td>1</td>\n",
              "    </tr>\n",
              "    <tr>\n",
              "      <th>47</th>\n",
              "      <td>1</td>\n",
              "    </tr>\n",
              "    <tr>\n",
              "      <th>...</th>\n",
              "      <td>...</td>\n",
              "    </tr>\n",
              "    <tr>\n",
              "      <th>137</th>\n",
              "      <td>0</td>\n",
              "    </tr>\n",
              "    <tr>\n",
              "      <th>465</th>\n",
              "      <td>0</td>\n",
              "    </tr>\n",
              "    <tr>\n",
              "      <th>549</th>\n",
              "      <td>1</td>\n",
              "    </tr>\n",
              "    <tr>\n",
              "      <th>91</th>\n",
              "      <td>0</td>\n",
              "    </tr>\n",
              "    <tr>\n",
              "      <th>427</th>\n",
              "      <td>1</td>\n",
              "    </tr>\n",
              "  </tbody>\n",
              "</table>\n",
              "<p>220 rows × 1 columns</p>\n",
              "</div><br><label><b>dtype:</b> int64</label>"
            ],
            "text/plain": [
              "902    1\n",
              "28     1\n",
              "267    1\n",
              "288    1\n",
              "47     1\n",
              "      ..\n",
              "137    0\n",
              "465    0\n",
              "549    1\n",
              "91     0\n",
              "427    1\n",
              "Name: Survived, Length: 220, dtype: int64"
            ]
          },
          "execution_count": 232,
          "metadata": {},
          "output_type": "execute_result"
        }
      ],
      "source": [
        "y_test"
      ]
    },
    {
      "cell_type": "code",
      "execution_count": null,
      "metadata": {
        "colab": {
          "base_uri": "https://localhost:8080/"
        },
        "id": "ZKmTZ3m30vjL",
        "outputId": "fb5dcc3a-208c-4fd6-9875-45605b6b0821"
      },
      "outputs": [
        {
          "name": "stdout",
          "output_type": "stream",
          "text": [
            "{'C': 10, 'penalty': 'l2', 'solver': 'saga'}\n",
            "0.8087272727272726\n"
          ]
        }
      ],
      "source": [
        "params = { 'penalty': ['l1', 'l2'],\n",
        "           'C': [0.01, 0.1, 1, 10, 100],\n",
        "           'solver': ['liblinear', 'saga']\n",
        "}\n",
        "gs = GridSearchCV(LogisticRegression(), params, cv=5, scoring='accuracy')\n",
        "gs.fit(X_train, y_train)\n",
        "print(gs.best_params_)\n",
        "print(gs.best_score_)"
      ]
    },
    {
      "cell_type": "code",
      "execution_count": null,
      "metadata": {
        "id": "hV7_eRCR2Arr"
      },
      "outputs": [],
      "source": [
        "log_reg_param = LogisticRegression(penalty='l1', C=10, solver='liblinear', random_state = 1)\n",
        "log_reg_param.fit(X_train, y_train)\n",
        "\n",
        "y_pred_train = log_reg_param.predict(X_train)\n",
        "y_pred_test = log_reg_param.predict(X_test)\n",
        "accuracy_train = accuracy_score(y_train, y_pred_train)\n",
        "accuracy_test = accuracy_score(y_test, y_pred_test)"
      ]
    },
    {
      "cell_type": "code",
      "execution_count": null,
      "metadata": {
        "colab": {
          "base_uri": "https://localhost:8080/"
        },
        "id": "4uYUxoiw2RNd",
        "outputId": "e84eeafa-b737-4a31-aabd-c67f89cf0e4b"
      },
      "outputs": [
        {
          "name": "stdout",
          "output_type": "stream",
          "text": [
            "accuracy train: 0.805\n",
            "accuracy test: 0.832\n"
          ]
        }
      ],
      "source": [
        "print(f'accuracy train: {accuracy_train:.3f}')\n",
        "print(f'accuracy test: {accuracy_test:.3f}')"
      ]
    },
    {
      "cell_type": "code",
      "execution_count": null,
      "metadata": {
        "colab": {
          "base_uri": "https://localhost:8080/",
          "height": 430
        },
        "id": "GIYtcRi_3ud_",
        "outputId": "fbc580d9-a642-4027-f38a-855f70da698c"
      },
      "outputs": [
        {
          "data": {
            "image/png": "[encoded data removed]",
            "text/plain": [
              "<Figure size 640x480 with 2 Axes>"
            ]
          },
          "metadata": {},
          "output_type": "display_data"
        }
      ],
      "source": [
        "cm = confusion_matrix(y_test, y_pred_test)\n",
        "sns.heatmap(cm, annot=True, cmap='coolwarm')\n",
        "plt.show()"
      ]
    },
    {
      "cell_type": "markdown",
      "metadata": {
        "id": "zdVbm3900X27"
      },
      "source": [
        "# 🌳 Дерево принятия решений (Decision Tree)\n",
        "\n",
        "Дерево решений — это алгоритм машинного обучения, который используется как для классификации, так и для регрессии. Он работает по принципу разбиения данных на основе условий, создавая структуру, похожую на дерево.\n",
        "\n",
        "📌 Как работает алгоритм?\n",
        "\n",
        "\t1.\tВыбирается лучший признак (фича), по которому можно разделить данные так, чтобы классы стали как можно более однородными.\n",
        "\n",
        "\t2.\tДанные делятся на две или больше групп в зависимости от значения признака.\n",
        "\n",
        "\t3.\tПроцесс повторяется для каждой новой группы, пока:\n",
        "\n",
        "\t    •\tЛист (конечный узел дерева) не станет достаточно чистым.\n",
        "\n",
        "\t    •\tГлубина дерева не достигнет установленного предела.\n",
        "\n",
        "\n",
        "🚀 Преимущества и недостатки\n",
        "\n",
        "✅ Плюсы:\n",
        "\n",
        "\t•\tПростая интерпретация: можно визуализировать.\n",
        "\t•\tМожет работать с категориальными и числовыми признаками.\n",
        "\t•\tНе требует нормализации данных.\n",
        "\n",
        "❌ Минусы:\n",
        "\n",
        "\t•\tСклонен к переобучению (overfitting), особенно при глубоком дереве.\n",
        "\t•\tЧувствителен к шуму в данных.\n",
        "\t•\tМожет давать неустойчивые результаты (изменение данных может сильно поменять дерево).\n",
        "\n"
      ]
    },
    {
      "cell_type": "markdown",
      "metadata": {
        "id": "JJJKfh2q1Q7k"
      },
      "source": [
        "🛠 Критерии выбора признаков для разбиения\n",
        "\n",
        "Чтобы определить, какой признак использовать для разделения, алгоритм использует меры неоднородности (чем ниже — тем лучше):\n",
        "\n",
        "\t•\tGini (индекс Джини) – измеряет вероятность неправильной классификации случайного примера.\n",
        "\n",
        "$Gini = 1 - \\sum p_i^2$\n",
        "Чем меньше Gini, тем лучше разделение.\n",
        "\n",
        "\t•\tEntropy (энтропия) – измеряет степень беспорядка в выборке.\n",
        "$Entropy = - \\sum p_i \\log_2 p_i$\n",
        "Чем меньше энтропия, тем лучше разделение."
      ]
    },
    {
      "cell_type": "markdown",
      "metadata": {
        "id": "bf7A1x8k1Zza"
      },
      "source": [
        "**Код:**"
      ]
    },
    {
      "cell_type": "code",
      "execution_count": null,
      "metadata": {
        "colab": {
          "base_uri": "https://localhost:8080/"
        },
        "id": "eXDBaTIA484O",
        "outputId": "604e5c73-a3dd-4cdb-e05f-531010c6422e"
      },
      "outputs": [
        {
          "name": "stdout",
          "output_type": "stream",
          "text": [
            "accuracy train: 0.800\n",
            "accuracy test: 0.841\n"
          ]
        }
      ],
      "source": [
        "d_tree = DecisionTreeClassifier(max_depth=2, max_features=3, random_state=1)\n",
        "d_tree.fit(X_train, y_train)\n",
        "\n",
        "y_pred_train = d_tree.predict(X_train)\n",
        "y_pred_test = d_tree.predict(X_test)\n",
        "\n",
        "accuracy_train = accuracy_score(y_train, y_pred_train)\n",
        "accuracy_test = accuracy_score(y_test, y_pred_test)\n",
        "\n",
        "print(f'accuracy train: {accuracy_train:.3f}')\n",
        "print(f'accuracy test: {accuracy_test:.3f}')"
      ]
    },
    {
      "cell_type": "code",
      "execution_count": null,
      "metadata": {
        "colab": {
          "base_uri": "https://localhost:8080/",
          "height": 435
        },
        "id": "7fFkRcmu6EIa",
        "outputId": "65d04375-01ef-477d-9658-cb13a867762c"
      },
      "outputs": [
        {
          "data": {
            "image/png": "[encoded data removed]",
            "text/plain": [
              "<Figure size 640x480 with 2 Axes>"
            ]
          },
          "metadata": {},
          "output_type": "display_data"
        }
      ],
      "source": [
        "cm = confusion_matrix(y_test, y_pred_test)\n",
        "sns.heatmap(cm, annot=True, cmap='coolwarm')\n",
        "plt.show()"
      ]
    },
    {
      "cell_type": "code",
      "execution_count": null,
      "metadata": {
        "colab": {
          "base_uri": "https://localhost:8080/",
          "height": 807
        },
        "id": "jeGxS-q6SXmk",
        "outputId": "56dbd421-0080-4c15-ddd1-ad77010a372e"
      },
      "outputs": [
        {
          "data": {
            "image/png": "[encoded data removed]",
            "text/plain": [
              "<Figure size 1400x1000 with 1 Axes>"
            ]
          },
          "metadata": {},
          "output_type": "display_data"
        }
      ],
      "source": [
        "plt.figure(figsize=(14, 10))\n",
        "plot_tree(d_tree, filled=True, feature_names=features)\n",
        "plt.show()"
      ]
    }
  ],
  "metadata": {
    "colab": {
      "provenance": []
    },
    "kernelspec": {
      "display_name": "Python 3",
      "name": "python3"
    },
    "language_info": {
      "codemirror_mode": {
        "name": "ipython",
        "version": 3
      },
      "file_extension": ".py",
      "mimetype": "text/x-python",
      "name": "python",
      "nbconvert_exporter": "python",
      "pygments_lexer": "ipython3",
      "version": "3.9.6"
    }
  },
  "nbformat": 4,
  "nbformat_minor": 0
}
